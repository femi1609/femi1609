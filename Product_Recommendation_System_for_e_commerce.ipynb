{
  "metadata": {
    "kernelspec": {
      "display_name": "Python 3",
      "language": "python",
      "name": "python3"
    },
    "language_info": {
      "codemirror_mode": {
        "name": "ipython",
        "version": 3
      },
      "file_extension": ".py",
      "mimetype": "text/x-python",
      "name": "python",
      "nbconvert_exporter": "python",
      "pygments_lexer": "ipython3",
      "version": "3.6.6"
    },
    "kaggle": {
      "accelerator": "none",
      "dataSources": [
        {
          "sourceId": 4853,
          "databundleVersionId": 36114,
          "sourceType": "competition"
        },
        {
          "sourceId": 43260,
          "sourceType": "datasetVersion",
          "datasetId": 33019
        },
        {
          "sourceId": 9416721,
          "sourceType": "datasetVersion",
          "datasetId": 5718937
        }
      ],
      "dockerImageVersionId": 29271,
      "isInternetEnabled": false,
      "language": "python",
      "sourceType": "notebook",
      "isGpuEnabled": false
    },
    "colab": {
      "provenance": [],
      "include_colab_link": true
    }
  },
  "nbformat_minor": 0,
  "nbformat": 4,
  "cells": [
    {
      "cell_type": "markdown",
      "metadata": {
        "id": "view-in-github",
        "colab_type": "text"
      },
      "source": [
        "<a href=\"https://colab.research.google.com/github/femi1609/femi1609/blob/main/Product_Recommendation_System_for_e_commerce.ipynb\" target=\"_parent\"><img src=\"https://colab.research.google.com/assets/colab-badge.svg\" alt=\"Open In Colab\"/></a>"
      ]
    },
    {
      "cell_type": "markdown",
      "source": [
        "## Product Recommendation System for e-commerce businesses\n",
        "\n",
        "When a new customer without any previous purchase history visits the e-commerce website for the first time, he/she is recommended the most popular products sold on the company's website. Once, he/she makes a purchase, the recommendation system updates and recommends other products based on the purchase history and ratings provided by other users on the website. The latter part is done using collaborative filtering techniques."
      ],
      "metadata": {
        "id": "YQQPYq_1cwka"
      }
    },
    {
      "cell_type": "markdown",
      "source": [
        "#### Importing libraries"
      ],
      "metadata": {
        "id": "JZJIgC0Qcwkc"
      }
    },
    {
      "cell_type": "code",
      "source": [
        "import numpy as np\n",
        "import pandas as pd\n",
        "import matplotlib.pyplot as plt\n",
        "import sklearn\n",
        "from sklearn.decomposition import TruncatedSVD\n",
        "plt.style.use(\"ggplot\")"
      ],
      "metadata": {
        "execution": {
          "iopub.status.busy": "2024-09-17T03:44:23.496832Z",
          "iopub.execute_input": "2024-09-17T03:44:23.497242Z",
          "iopub.status.idle": "2024-09-17T03:44:23.504062Z",
          "shell.execute_reply.started": "2024-09-17T03:44:23.497183Z",
          "shell.execute_reply": "2024-09-17T03:44:23.503129Z"
        },
        "trusted": true,
        "id": "22Ni1iExcwke"
      },
      "execution_count": 1,
      "outputs": []
    },
    {
      "cell_type": "markdown",
      "source": [
        "#### Loading the dataset"
      ],
      "metadata": {
        "id": "3Mq54lX6cwkg"
      }
    },
    {
      "cell_type": "code",
      "source": [
        "ratings_beauty = pd.read_csv('ratings_Beauty.csv')\n",
        "ratings_beauty = ratings_beauty.dropna()\n",
        "ratings_beauty.head()"
      ],
      "metadata": {
        "execution": {
          "iopub.status.busy": "2024-09-17T03:39:06.663815Z",
          "iopub.execute_input": "2024-09-17T03:39:06.664108Z",
          "iopub.status.idle": "2024-09-17T03:39:10.785809Z",
          "shell.execute_reply.started": "2024-09-17T03:39:06.66406Z",
          "shell.execute_reply": "2024-09-17T03:39:10.784587Z"
        },
        "trusted": true,
        "id": "9FU7NRIEcwkh",
        "colab": {
          "base_uri": "https://localhost:8080/",
          "height": 206
        },
        "outputId": "4d47535a-814a-4537-990c-bbdd58c5239e"
      },
      "execution_count": 36,
      "outputs": [
        {
          "output_type": "execute_result",
          "data": {
            "text/plain": [
              "           UserId   ProductId  Rating   Timestamp\n",
              "0  A39HTATAQ9V7YF  0205616461     5.0  1369699200\n",
              "1  A3JM6GV9MNOF9X  0558925278     3.0  1355443200\n",
              "2  A1Z513UWSAAO0F  0558925278     5.0  1404691200\n",
              "3  A1WMRR494NWEWV  0733001998     4.0  1382572800\n",
              "4  A3IAAVS479H7M7  0737104473     1.0  1274227200"
            ],
            "text/html": [
              "\n",
              "  <div id=\"df-eddef061-5d37-49dc-8b56-a2fbcaf43e31\" class=\"colab-df-container\">\n",
              "    <div>\n",
              "<style scoped>\n",
              "    .dataframe tbody tr th:only-of-type {\n",
              "        vertical-align: middle;\n",
              "    }\n",
              "\n",
              "    .dataframe tbody tr th {\n",
              "        vertical-align: top;\n",
              "    }\n",
              "\n",
              "    .dataframe thead th {\n",
              "        text-align: right;\n",
              "    }\n",
              "</style>\n",
              "<table border=\"1\" class=\"dataframe\">\n",
              "  <thead>\n",
              "    <tr style=\"text-align: right;\">\n",
              "      <th></th>\n",
              "      <th>UserId</th>\n",
              "      <th>ProductId</th>\n",
              "      <th>Rating</th>\n",
              "      <th>Timestamp</th>\n",
              "    </tr>\n",
              "  </thead>\n",
              "  <tbody>\n",
              "    <tr>\n",
              "      <th>0</th>\n",
              "      <td>A39HTATAQ9V7YF</td>\n",
              "      <td>0205616461</td>\n",
              "      <td>5.0</td>\n",
              "      <td>1369699200</td>\n",
              "    </tr>\n",
              "    <tr>\n",
              "      <th>1</th>\n",
              "      <td>A3JM6GV9MNOF9X</td>\n",
              "      <td>0558925278</td>\n",
              "      <td>3.0</td>\n",
              "      <td>1355443200</td>\n",
              "    </tr>\n",
              "    <tr>\n",
              "      <th>2</th>\n",
              "      <td>A1Z513UWSAAO0F</td>\n",
              "      <td>0558925278</td>\n",
              "      <td>5.0</td>\n",
              "      <td>1404691200</td>\n",
              "    </tr>\n",
              "    <tr>\n",
              "      <th>3</th>\n",
              "      <td>A1WMRR494NWEWV</td>\n",
              "      <td>0733001998</td>\n",
              "      <td>4.0</td>\n",
              "      <td>1382572800</td>\n",
              "    </tr>\n",
              "    <tr>\n",
              "      <th>4</th>\n",
              "      <td>A3IAAVS479H7M7</td>\n",
              "      <td>0737104473</td>\n",
              "      <td>1.0</td>\n",
              "      <td>1274227200</td>\n",
              "    </tr>\n",
              "  </tbody>\n",
              "</table>\n",
              "</div>\n",
              "    <div class=\"colab-df-buttons\">\n",
              "\n",
              "  <div class=\"colab-df-container\">\n",
              "    <button class=\"colab-df-convert\" onclick=\"convertToInteractive('df-eddef061-5d37-49dc-8b56-a2fbcaf43e31')\"\n",
              "            title=\"Convert this dataframe to an interactive table.\"\n",
              "            style=\"display:none;\">\n",
              "\n",
              "  <svg xmlns=\"http://www.w3.org/2000/svg\" height=\"24px\" viewBox=\"0 -960 960 960\">\n",
              "    <path d=\"M120-120v-720h720v720H120Zm60-500h600v-160H180v160Zm220 220h160v-160H400v160Zm0 220h160v-160H400v160ZM180-400h160v-160H180v160Zm440 0h160v-160H620v160ZM180-180h160v-160H180v160Zm440 0h160v-160H620v160Z\"/>\n",
              "  </svg>\n",
              "    </button>\n",
              "\n",
              "  <style>\n",
              "    .colab-df-container {\n",
              "      display:flex;\n",
              "      gap: 12px;\n",
              "    }\n",
              "\n",
              "    .colab-df-convert {\n",
              "      background-color: #E8F0FE;\n",
              "      border: none;\n",
              "      border-radius: 50%;\n",
              "      cursor: pointer;\n",
              "      display: none;\n",
              "      fill: #1967D2;\n",
              "      height: 32px;\n",
              "      padding: 0 0 0 0;\n",
              "      width: 32px;\n",
              "    }\n",
              "\n",
              "    .colab-df-convert:hover {\n",
              "      background-color: #E2EBFA;\n",
              "      box-shadow: 0px 1px 2px rgba(60, 64, 67, 0.3), 0px 1px 3px 1px rgba(60, 64, 67, 0.15);\n",
              "      fill: #174EA6;\n",
              "    }\n",
              "\n",
              "    .colab-df-buttons div {\n",
              "      margin-bottom: 4px;\n",
              "    }\n",
              "\n",
              "    [theme=dark] .colab-df-convert {\n",
              "      background-color: #3B4455;\n",
              "      fill: #D2E3FC;\n",
              "    }\n",
              "\n",
              "    [theme=dark] .colab-df-convert:hover {\n",
              "      background-color: #434B5C;\n",
              "      box-shadow: 0px 1px 3px 1px rgba(0, 0, 0, 0.15);\n",
              "      filter: drop-shadow(0px 1px 2px rgba(0, 0, 0, 0.3));\n",
              "      fill: #FFFFFF;\n",
              "    }\n",
              "  </style>\n",
              "\n",
              "    <script>\n",
              "      const buttonEl =\n",
              "        document.querySelector('#df-eddef061-5d37-49dc-8b56-a2fbcaf43e31 button.colab-df-convert');\n",
              "      buttonEl.style.display =\n",
              "        google.colab.kernel.accessAllowed ? 'block' : 'none';\n",
              "\n",
              "      async function convertToInteractive(key) {\n",
              "        const element = document.querySelector('#df-eddef061-5d37-49dc-8b56-a2fbcaf43e31');\n",
              "        const dataTable =\n",
              "          await google.colab.kernel.invokeFunction('convertToInteractive',\n",
              "                                                    [key], {});\n",
              "        if (!dataTable) return;\n",
              "\n",
              "        const docLinkHtml = 'Like what you see? Visit the ' +\n",
              "          '<a target=\"_blank\" href=https://colab.research.google.com/notebooks/data_table.ipynb>data table notebook</a>'\n",
              "          + ' to learn more about interactive tables.';\n",
              "        element.innerHTML = '';\n",
              "        dataTable['output_type'] = 'display_data';\n",
              "        await google.colab.output.renderOutput(dataTable, element);\n",
              "        const docLink = document.createElement('div');\n",
              "        docLink.innerHTML = docLinkHtml;\n",
              "        element.appendChild(docLink);\n",
              "      }\n",
              "    </script>\n",
              "  </div>\n",
              "\n",
              "\n",
              "<div id=\"df-a6947bc0-40a2-48d3-8741-c864f88a925c\">\n",
              "  <button class=\"colab-df-quickchart\" onclick=\"quickchart('df-a6947bc0-40a2-48d3-8741-c864f88a925c')\"\n",
              "            title=\"Suggest charts\"\n",
              "            style=\"display:none;\">\n",
              "\n",
              "<svg xmlns=\"http://www.w3.org/2000/svg\" height=\"24px\"viewBox=\"0 0 24 24\"\n",
              "     width=\"24px\">\n",
              "    <g>\n",
              "        <path d=\"M19 3H5c-1.1 0-2 .9-2 2v14c0 1.1.9 2 2 2h14c1.1 0 2-.9 2-2V5c0-1.1-.9-2-2-2zM9 17H7v-7h2v7zm4 0h-2V7h2v10zm4 0h-2v-4h2v4z\"/>\n",
              "    </g>\n",
              "</svg>\n",
              "  </button>\n",
              "\n",
              "<style>\n",
              "  .colab-df-quickchart {\n",
              "      --bg-color: #E8F0FE;\n",
              "      --fill-color: #1967D2;\n",
              "      --hover-bg-color: #E2EBFA;\n",
              "      --hover-fill-color: #174EA6;\n",
              "      --disabled-fill-color: #AAA;\n",
              "      --disabled-bg-color: #DDD;\n",
              "  }\n",
              "\n",
              "  [theme=dark] .colab-df-quickchart {\n",
              "      --bg-color: #3B4455;\n",
              "      --fill-color: #D2E3FC;\n",
              "      --hover-bg-color: #434B5C;\n",
              "      --hover-fill-color: #FFFFFF;\n",
              "      --disabled-bg-color: #3B4455;\n",
              "      --disabled-fill-color: #666;\n",
              "  }\n",
              "\n",
              "  .colab-df-quickchart {\n",
              "    background-color: var(--bg-color);\n",
              "    border: none;\n",
              "    border-radius: 50%;\n",
              "    cursor: pointer;\n",
              "    display: none;\n",
              "    fill: var(--fill-color);\n",
              "    height: 32px;\n",
              "    padding: 0;\n",
              "    width: 32px;\n",
              "  }\n",
              "\n",
              "  .colab-df-quickchart:hover {\n",
              "    background-color: var(--hover-bg-color);\n",
              "    box-shadow: 0 1px 2px rgba(60, 64, 67, 0.3), 0 1px 3px 1px rgba(60, 64, 67, 0.15);\n",
              "    fill: var(--button-hover-fill-color);\n",
              "  }\n",
              "\n",
              "  .colab-df-quickchart-complete:disabled,\n",
              "  .colab-df-quickchart-complete:disabled:hover {\n",
              "    background-color: var(--disabled-bg-color);\n",
              "    fill: var(--disabled-fill-color);\n",
              "    box-shadow: none;\n",
              "  }\n",
              "\n",
              "  .colab-df-spinner {\n",
              "    border: 2px solid var(--fill-color);\n",
              "    border-color: transparent;\n",
              "    border-bottom-color: var(--fill-color);\n",
              "    animation:\n",
              "      spin 1s steps(1) infinite;\n",
              "  }\n",
              "\n",
              "  @keyframes spin {\n",
              "    0% {\n",
              "      border-color: transparent;\n",
              "      border-bottom-color: var(--fill-color);\n",
              "      border-left-color: var(--fill-color);\n",
              "    }\n",
              "    20% {\n",
              "      border-color: transparent;\n",
              "      border-left-color: var(--fill-color);\n",
              "      border-top-color: var(--fill-color);\n",
              "    }\n",
              "    30% {\n",
              "      border-color: transparent;\n",
              "      border-left-color: var(--fill-color);\n",
              "      border-top-color: var(--fill-color);\n",
              "      border-right-color: var(--fill-color);\n",
              "    }\n",
              "    40% {\n",
              "      border-color: transparent;\n",
              "      border-right-color: var(--fill-color);\n",
              "      border-top-color: var(--fill-color);\n",
              "    }\n",
              "    60% {\n",
              "      border-color: transparent;\n",
              "      border-right-color: var(--fill-color);\n",
              "    }\n",
              "    80% {\n",
              "      border-color: transparent;\n",
              "      border-right-color: var(--fill-color);\n",
              "      border-bottom-color: var(--fill-color);\n",
              "    }\n",
              "    90% {\n",
              "      border-color: transparent;\n",
              "      border-bottom-color: var(--fill-color);\n",
              "    }\n",
              "  }\n",
              "</style>\n",
              "\n",
              "  <script>\n",
              "    async function quickchart(key) {\n",
              "      const quickchartButtonEl =\n",
              "        document.querySelector('#' + key + ' button');\n",
              "      quickchartButtonEl.disabled = true;  // To prevent multiple clicks.\n",
              "      quickchartButtonEl.classList.add('colab-df-spinner');\n",
              "      try {\n",
              "        const charts = await google.colab.kernel.invokeFunction(\n",
              "            'suggestCharts', [key], {});\n",
              "      } catch (error) {\n",
              "        console.error('Error during call to suggestCharts:', error);\n",
              "      }\n",
              "      quickchartButtonEl.classList.remove('colab-df-spinner');\n",
              "      quickchartButtonEl.classList.add('colab-df-quickchart-complete');\n",
              "    }\n",
              "    (() => {\n",
              "      let quickchartButtonEl =\n",
              "        document.querySelector('#df-a6947bc0-40a2-48d3-8741-c864f88a925c button');\n",
              "      quickchartButtonEl.style.display =\n",
              "        google.colab.kernel.accessAllowed ? 'block' : 'none';\n",
              "    })();\n",
              "  </script>\n",
              "</div>\n",
              "\n",
              "    </div>\n",
              "  </div>\n"
            ],
            "application/vnd.google.colaboratory.intrinsic+json": {
              "type": "dataframe",
              "variable_name": "ratings_beauty"
            }
          },
          "metadata": {},
          "execution_count": 36
        }
      ]
    },
    {
      "cell_type": "code",
      "source": [
        "ratings_beauty.shape"
      ],
      "metadata": {
        "execution": {
          "iopub.status.busy": "2024-09-17T03:39:10.787775Z",
          "iopub.execute_input": "2024-09-17T03:39:10.788214Z",
          "iopub.status.idle": "2024-09-17T03:39:10.795606Z",
          "shell.execute_reply.started": "2024-09-17T03:39:10.788136Z",
          "shell.execute_reply": "2024-09-17T03:39:10.79448Z"
        },
        "trusted": true,
        "id": "O9Op3Dxvcwki",
        "colab": {
          "base_uri": "https://localhost:8080/"
        },
        "outputId": "333d62ef-e5f5-4df3-9c01-e6028a6932b7"
      },
      "execution_count": 37,
      "outputs": [
        {
          "output_type": "execute_result",
          "data": {
            "text/plain": [
              "(2023070, 4)"
            ]
          },
          "metadata": {},
          "execution_count": 37
        }
      ]
    },
    {
      "cell_type": "code",
      "source": [
        "popular_products = pd.DataFrame(ratings_beauty.groupby('ProductId')['Rating'].count())\n",
        "most_popular = popular_products.sort_values('Rating', ascending=False)\n",
        "most_popular.head(10)"
      ],
      "metadata": {
        "execution": {
          "iopub.status.busy": "2024-09-17T03:39:10.797533Z",
          "iopub.execute_input": "2024-09-17T03:39:10.797945Z",
          "iopub.status.idle": "2024-09-17T03:39:11.300795Z",
          "shell.execute_reply.started": "2024-09-17T03:39:10.797875Z",
          "shell.execute_reply": "2024-09-17T03:39:11.299872Z"
        },
        "trusted": true,
        "id": "dE47ZM6vcwki",
        "colab": {
          "base_uri": "https://localhost:8080/",
          "height": 394
        },
        "outputId": "58987b05-276f-4571-bcc2-e5d11c218e84"
      },
      "execution_count": 38,
      "outputs": [
        {
          "output_type": "execute_result",
          "data": {
            "text/plain": [
              "            Rating\n",
              "ProductId         \n",
              "B001MA0QY2    7533\n",
              "B0009V1YR8    2869\n",
              "B0043OYFKU    2477\n",
              "B0000YUXI0    2143\n",
              "B003V265QW    2088\n",
              "B000ZMBSPE    2041\n",
              "B003BQ6QXK    1918\n",
              "B004OHQR1Q    1885\n",
              "B00121UVU0    1838\n",
              "B000FS05VG    1589"
            ],
            "text/html": [
              "\n",
              "  <div id=\"df-5714dd78-0a2f-40b1-bd77-8289a79f5b54\" class=\"colab-df-container\">\n",
              "    <div>\n",
              "<style scoped>\n",
              "    .dataframe tbody tr th:only-of-type {\n",
              "        vertical-align: middle;\n",
              "    }\n",
              "\n",
              "    .dataframe tbody tr th {\n",
              "        vertical-align: top;\n",
              "    }\n",
              "\n",
              "    .dataframe thead th {\n",
              "        text-align: right;\n",
              "    }\n",
              "</style>\n",
              "<table border=\"1\" class=\"dataframe\">\n",
              "  <thead>\n",
              "    <tr style=\"text-align: right;\">\n",
              "      <th></th>\n",
              "      <th>Rating</th>\n",
              "    </tr>\n",
              "    <tr>\n",
              "      <th>ProductId</th>\n",
              "      <th></th>\n",
              "    </tr>\n",
              "  </thead>\n",
              "  <tbody>\n",
              "    <tr>\n",
              "      <th>B001MA0QY2</th>\n",
              "      <td>7533</td>\n",
              "    </tr>\n",
              "    <tr>\n",
              "      <th>B0009V1YR8</th>\n",
              "      <td>2869</td>\n",
              "    </tr>\n",
              "    <tr>\n",
              "      <th>B0043OYFKU</th>\n",
              "      <td>2477</td>\n",
              "    </tr>\n",
              "    <tr>\n",
              "      <th>B0000YUXI0</th>\n",
              "      <td>2143</td>\n",
              "    </tr>\n",
              "    <tr>\n",
              "      <th>B003V265QW</th>\n",
              "      <td>2088</td>\n",
              "    </tr>\n",
              "    <tr>\n",
              "      <th>B000ZMBSPE</th>\n",
              "      <td>2041</td>\n",
              "    </tr>\n",
              "    <tr>\n",
              "      <th>B003BQ6QXK</th>\n",
              "      <td>1918</td>\n",
              "    </tr>\n",
              "    <tr>\n",
              "      <th>B004OHQR1Q</th>\n",
              "      <td>1885</td>\n",
              "    </tr>\n",
              "    <tr>\n",
              "      <th>B00121UVU0</th>\n",
              "      <td>1838</td>\n",
              "    </tr>\n",
              "    <tr>\n",
              "      <th>B000FS05VG</th>\n",
              "      <td>1589</td>\n",
              "    </tr>\n",
              "  </tbody>\n",
              "</table>\n",
              "</div>\n",
              "    <div class=\"colab-df-buttons\">\n",
              "\n",
              "  <div class=\"colab-df-container\">\n",
              "    <button class=\"colab-df-convert\" onclick=\"convertToInteractive('df-5714dd78-0a2f-40b1-bd77-8289a79f5b54')\"\n",
              "            title=\"Convert this dataframe to an interactive table.\"\n",
              "            style=\"display:none;\">\n",
              "\n",
              "  <svg xmlns=\"http://www.w3.org/2000/svg\" height=\"24px\" viewBox=\"0 -960 960 960\">\n",
              "    <path d=\"M120-120v-720h720v720H120Zm60-500h600v-160H180v160Zm220 220h160v-160H400v160Zm0 220h160v-160H400v160ZM180-400h160v-160H180v160Zm440 0h160v-160H620v160ZM180-180h160v-160H180v160Zm440 0h160v-160H620v160Z\"/>\n",
              "  </svg>\n",
              "    </button>\n",
              "\n",
              "  <style>\n",
              "    .colab-df-container {\n",
              "      display:flex;\n",
              "      gap: 12px;\n",
              "    }\n",
              "\n",
              "    .colab-df-convert {\n",
              "      background-color: #E8F0FE;\n",
              "      border: none;\n",
              "      border-radius: 50%;\n",
              "      cursor: pointer;\n",
              "      display: none;\n",
              "      fill: #1967D2;\n",
              "      height: 32px;\n",
              "      padding: 0 0 0 0;\n",
              "      width: 32px;\n",
              "    }\n",
              "\n",
              "    .colab-df-convert:hover {\n",
              "      background-color: #E2EBFA;\n",
              "      box-shadow: 0px 1px 2px rgba(60, 64, 67, 0.3), 0px 1px 3px 1px rgba(60, 64, 67, 0.15);\n",
              "      fill: #174EA6;\n",
              "    }\n",
              "\n",
              "    .colab-df-buttons div {\n",
              "      margin-bottom: 4px;\n",
              "    }\n",
              "\n",
              "    [theme=dark] .colab-df-convert {\n",
              "      background-color: #3B4455;\n",
              "      fill: #D2E3FC;\n",
              "    }\n",
              "\n",
              "    [theme=dark] .colab-df-convert:hover {\n",
              "      background-color: #434B5C;\n",
              "      box-shadow: 0px 1px 3px 1px rgba(0, 0, 0, 0.15);\n",
              "      filter: drop-shadow(0px 1px 2px rgba(0, 0, 0, 0.3));\n",
              "      fill: #FFFFFF;\n",
              "    }\n",
              "  </style>\n",
              "\n",
              "    <script>\n",
              "      const buttonEl =\n",
              "        document.querySelector('#df-5714dd78-0a2f-40b1-bd77-8289a79f5b54 button.colab-df-convert');\n",
              "      buttonEl.style.display =\n",
              "        google.colab.kernel.accessAllowed ? 'block' : 'none';\n",
              "\n",
              "      async function convertToInteractive(key) {\n",
              "        const element = document.querySelector('#df-5714dd78-0a2f-40b1-bd77-8289a79f5b54');\n",
              "        const dataTable =\n",
              "          await google.colab.kernel.invokeFunction('convertToInteractive',\n",
              "                                                    [key], {});\n",
              "        if (!dataTable) return;\n",
              "\n",
              "        const docLinkHtml = 'Like what you see? Visit the ' +\n",
              "          '<a target=\"_blank\" href=https://colab.research.google.com/notebooks/data_table.ipynb>data table notebook</a>'\n",
              "          + ' to learn more about interactive tables.';\n",
              "        element.innerHTML = '';\n",
              "        dataTable['output_type'] = 'display_data';\n",
              "        await google.colab.output.renderOutput(dataTable, element);\n",
              "        const docLink = document.createElement('div');\n",
              "        docLink.innerHTML = docLinkHtml;\n",
              "        element.appendChild(docLink);\n",
              "      }\n",
              "    </script>\n",
              "  </div>\n",
              "\n",
              "\n",
              "<div id=\"df-cf023443-d0b8-453c-8c18-9f99a6fb1d94\">\n",
              "  <button class=\"colab-df-quickchart\" onclick=\"quickchart('df-cf023443-d0b8-453c-8c18-9f99a6fb1d94')\"\n",
              "            title=\"Suggest charts\"\n",
              "            style=\"display:none;\">\n",
              "\n",
              "<svg xmlns=\"http://www.w3.org/2000/svg\" height=\"24px\"viewBox=\"0 0 24 24\"\n",
              "     width=\"24px\">\n",
              "    <g>\n",
              "        <path d=\"M19 3H5c-1.1 0-2 .9-2 2v14c0 1.1.9 2 2 2h14c1.1 0 2-.9 2-2V5c0-1.1-.9-2-2-2zM9 17H7v-7h2v7zm4 0h-2V7h2v10zm4 0h-2v-4h2v4z\"/>\n",
              "    </g>\n",
              "</svg>\n",
              "  </button>\n",
              "\n",
              "<style>\n",
              "  .colab-df-quickchart {\n",
              "      --bg-color: #E8F0FE;\n",
              "      --fill-color: #1967D2;\n",
              "      --hover-bg-color: #E2EBFA;\n",
              "      --hover-fill-color: #174EA6;\n",
              "      --disabled-fill-color: #AAA;\n",
              "      --disabled-bg-color: #DDD;\n",
              "  }\n",
              "\n",
              "  [theme=dark] .colab-df-quickchart {\n",
              "      --bg-color: #3B4455;\n",
              "      --fill-color: #D2E3FC;\n",
              "      --hover-bg-color: #434B5C;\n",
              "      --hover-fill-color: #FFFFFF;\n",
              "      --disabled-bg-color: #3B4455;\n",
              "      --disabled-fill-color: #666;\n",
              "  }\n",
              "\n",
              "  .colab-df-quickchart {\n",
              "    background-color: var(--bg-color);\n",
              "    border: none;\n",
              "    border-radius: 50%;\n",
              "    cursor: pointer;\n",
              "    display: none;\n",
              "    fill: var(--fill-color);\n",
              "    height: 32px;\n",
              "    padding: 0;\n",
              "    width: 32px;\n",
              "  }\n",
              "\n",
              "  .colab-df-quickchart:hover {\n",
              "    background-color: var(--hover-bg-color);\n",
              "    box-shadow: 0 1px 2px rgba(60, 64, 67, 0.3), 0 1px 3px 1px rgba(60, 64, 67, 0.15);\n",
              "    fill: var(--button-hover-fill-color);\n",
              "  }\n",
              "\n",
              "  .colab-df-quickchart-complete:disabled,\n",
              "  .colab-df-quickchart-complete:disabled:hover {\n",
              "    background-color: var(--disabled-bg-color);\n",
              "    fill: var(--disabled-fill-color);\n",
              "    box-shadow: none;\n",
              "  }\n",
              "\n",
              "  .colab-df-spinner {\n",
              "    border: 2px solid var(--fill-color);\n",
              "    border-color: transparent;\n",
              "    border-bottom-color: var(--fill-color);\n",
              "    animation:\n",
              "      spin 1s steps(1) infinite;\n",
              "  }\n",
              "\n",
              "  @keyframes spin {\n",
              "    0% {\n",
              "      border-color: transparent;\n",
              "      border-bottom-color: var(--fill-color);\n",
              "      border-left-color: var(--fill-color);\n",
              "    }\n",
              "    20% {\n",
              "      border-color: transparent;\n",
              "      border-left-color: var(--fill-color);\n",
              "      border-top-color: var(--fill-color);\n",
              "    }\n",
              "    30% {\n",
              "      border-color: transparent;\n",
              "      border-left-color: var(--fill-color);\n",
              "      border-top-color: var(--fill-color);\n",
              "      border-right-color: var(--fill-color);\n",
              "    }\n",
              "    40% {\n",
              "      border-color: transparent;\n",
              "      border-right-color: var(--fill-color);\n",
              "      border-top-color: var(--fill-color);\n",
              "    }\n",
              "    60% {\n",
              "      border-color: transparent;\n",
              "      border-right-color: var(--fill-color);\n",
              "    }\n",
              "    80% {\n",
              "      border-color: transparent;\n",
              "      border-right-color: var(--fill-color);\n",
              "      border-bottom-color: var(--fill-color);\n",
              "    }\n",
              "    90% {\n",
              "      border-color: transparent;\n",
              "      border-bottom-color: var(--fill-color);\n",
              "    }\n",
              "  }\n",
              "</style>\n",
              "\n",
              "  <script>\n",
              "    async function quickchart(key) {\n",
              "      const quickchartButtonEl =\n",
              "        document.querySelector('#' + key + ' button');\n",
              "      quickchartButtonEl.disabled = true;  // To prevent multiple clicks.\n",
              "      quickchartButtonEl.classList.add('colab-df-spinner');\n",
              "      try {\n",
              "        const charts = await google.colab.kernel.invokeFunction(\n",
              "            'suggestCharts', [key], {});\n",
              "      } catch (error) {\n",
              "        console.error('Error during call to suggestCharts:', error);\n",
              "      }\n",
              "      quickchartButtonEl.classList.remove('colab-df-spinner');\n",
              "      quickchartButtonEl.classList.add('colab-df-quickchart-complete');\n",
              "    }\n",
              "    (() => {\n",
              "      let quickchartButtonEl =\n",
              "        document.querySelector('#df-cf023443-d0b8-453c-8c18-9f99a6fb1d94 button');\n",
              "      quickchartButtonEl.style.display =\n",
              "        google.colab.kernel.accessAllowed ? 'block' : 'none';\n",
              "    })();\n",
              "  </script>\n",
              "</div>\n",
              "\n",
              "    </div>\n",
              "  </div>\n"
            ],
            "application/vnd.google.colaboratory.intrinsic+json": {
              "type": "dataframe",
              "variable_name": "most_popular"
            }
          },
          "metadata": {},
          "execution_count": 38
        }
      ]
    },
    {
      "cell_type": "code",
      "source": [
        "most_popular.head(30).plot(kind = \"bar\")"
      ],
      "metadata": {
        "execution": {
          "iopub.status.busy": "2024-09-17T03:39:11.304784Z",
          "iopub.execute_input": "2024-09-17T03:39:11.305093Z",
          "iopub.status.idle": "2024-09-17T03:39:12.025932Z",
          "shell.execute_reply.started": "2024-09-17T03:39:11.305042Z",
          "shell.execute_reply": "2024-09-17T03:39:12.024783Z"
        },
        "trusted": true,
        "id": "5bzeo9qqcwkj",
        "colab": {
          "base_uri": "https://localhost:8080/",
          "height": 557
        },
        "outputId": "7dc8de10-d475-4b8c-9303-95cf2f6ba32a"
      },
      "execution_count": 39,
      "outputs": [
        {
          "output_type": "execute_result",
          "data": {
            "text/plain": [
              "<Axes: xlabel='ProductId'>"
            ]
          },
          "metadata": {},
          "execution_count": 39
        },
        {
          "output_type": "display_data",
          "data": {
            "text/plain": [
              "<Figure size 640x480 with 1 Axes>"
            ],
            "image/png": "[encoded data removed]"
          },
          "metadata": {}
        }
      ]
    },
    {
      "cell_type": "markdown",
      "source": [
        "**Analysis:**\n",
        "\n",
        "* The above graph gives us the most popular products (arranged in descending order) sold by the business.\n",
        "\n",
        "* For eaxmple, product, ID # B001MA0QY2 has sales of over 7000, the next most popular product, ID # B0009V1YR8 has sales of  3000, etc.     "
      ],
      "metadata": {
        "id": "SHcYCytecwkj"
      }
    },
    {
      "cell_type": "code",
      "source": [
        "# Subset of Amazon Ratings\n",
        "ratings_beauty1 = ratings_beauty.head(10000)"
      ],
      "metadata": {
        "execution": {
          "iopub.status.busy": "2024-09-17T03:39:12.030205Z",
          "iopub.execute_input": "2024-09-17T03:39:12.030694Z",
          "iopub.status.idle": "2024-09-17T03:39:12.036902Z",
          "shell.execute_reply.started": "2024-09-17T03:39:12.030595Z",
          "shell.execute_reply": "2024-09-17T03:39:12.0355Z"
        },
        "trusted": true,
        "id": "Sl9-hIZjcwkl"
      },
      "execution_count": 40,
      "outputs": []
    },
    {
      "cell_type": "code",
      "source": [
        "ratings_utility_matrix = ratings_beauty1.pivot_table(values='Rating', index='UserId', columns='ProductId', fill_value=0)\n",
        "ratings_utility_matrix.head()"
      ],
      "metadata": {
        "execution": {
          "iopub.status.busy": "2024-09-17T03:39:12.038595Z",
          "iopub.execute_input": "2024-09-17T03:39:12.039026Z",
          "iopub.status.idle": "2024-09-17T03:39:13.74795Z",
          "shell.execute_reply.started": "2024-09-17T03:39:12.038958Z",
          "shell.execute_reply": "2024-09-17T03:39:13.746804Z"
        },
        "trusted": true,
        "id": "D0mHNDQNcwkm",
        "colab": {
          "base_uri": "https://localhost:8080/",
          "height": 287
        },
        "outputId": "927e8064-0ef8-4417-ce66-734449b48dae"
      },
      "execution_count": 41,
      "outputs": [
        {
          "output_type": "execute_result",
          "data": {
            "text/plain": [
              "ProductId              0205616461  0558925278  0733001998  0737104473  \\\n",
              "UserId                                                                  \n",
              "A00205921JHJK5X9LNP42         0.0         0.0         0.0         0.0   \n",
              "A024581134CV80ZBLIZTZ         0.0         0.0         0.0         0.0   \n",
              "A03056581JJIOL5FSKJY7         0.0         0.0         0.0         0.0   \n",
              "A03099101ZRK4K607JVHH         0.0         0.0         0.0         0.0   \n",
              "A0505229A7NSH3FRXRR4          0.0         0.0         0.0         0.0   \n",
              "\n",
              "ProductId              0762451459  1304139212  1304139220  130414089X  \\\n",
              "UserId                                                                  \n",
              "A00205921JHJK5X9LNP42         0.0         0.0         0.0         0.0   \n",
              "A024581134CV80ZBLIZTZ         0.0         0.0         0.0         0.0   \n",
              "A03056581JJIOL5FSKJY7         0.0         0.0         0.0         0.0   \n",
              "A03099101ZRK4K607JVHH         0.0         0.0         0.0         0.0   \n",
              "A0505229A7NSH3FRXRR4          0.0         0.0         0.0         0.0   \n",
              "\n",
              "ProductId              130414643X  1304146537  ...  B000052YPE  B000052YPF  \\\n",
              "UserId                                         ...                           \n",
              "A00205921JHJK5X9LNP42         0.0         0.0  ...         0.0         0.0   \n",
              "A024581134CV80ZBLIZTZ         0.0         0.0  ...         0.0         0.0   \n",
              "A03056581JJIOL5FSKJY7         0.0         0.0  ...         0.0         0.0   \n",
              "A03099101ZRK4K607JVHH         0.0         0.0  ...         0.0         0.0   \n",
              "A0505229A7NSH3FRXRR4          0.0         0.0  ...         0.0         0.0   \n",
              "\n",
              "ProductId              B000052YPG  B000052YPH  B000052YPM  B000052YPU  \\\n",
              "UserId                                                                  \n",
              "A00205921JHJK5X9LNP42         0.0         0.0         0.0         0.0   \n",
              "A024581134CV80ZBLIZTZ         0.0         0.0         0.0         0.0   \n",
              "A03056581JJIOL5FSKJY7         0.0         0.0         0.0         0.0   \n",
              "A03099101ZRK4K607JVHH         0.0         0.0         0.0         0.0   \n",
              "A0505229A7NSH3FRXRR4          0.0         0.0         0.0         0.0   \n",
              "\n",
              "ProductId              B000052YPV  B000052YPY  B000052YQ0  B000052YQ2  \n",
              "UserId                                                                 \n",
              "A00205921JHJK5X9LNP42         0.0         0.0         0.0         0.0  \n",
              "A024581134CV80ZBLIZTZ         0.0         0.0         0.0         0.0  \n",
              "A03056581JJIOL5FSKJY7         0.0         0.0         0.0         0.0  \n",
              "A03099101ZRK4K607JVHH         0.0         0.0         0.0         0.0  \n",
              "A0505229A7NSH3FRXRR4          0.0         0.0         0.0         0.0  \n",
              "\n",
              "[5 rows x 886 columns]"
            ],
            "text/html": [
              "\n",
              "  <div id=\"df-a8520197-493f-456b-a616-b43bfa097cb3\" class=\"colab-df-container\">\n",
              "    <div>\n",
              "<style scoped>\n",
              "    .dataframe tbody tr th:only-of-type {\n",
              "        vertical-align: middle;\n",
              "    }\n",
              "\n",
              "    .dataframe tbody tr th {\n",
              "        vertical-align: top;\n",
              "    }\n",
              "\n",
              "    .dataframe thead th {\n",
              "        text-align: right;\n",
              "    }\n",
              "</style>\n",
              "<table border=\"1\" class=\"dataframe\">\n",
              "  <thead>\n",
              "    <tr style=\"text-align: right;\">\n",
              "      <th>ProductId</th>\n",
              "      <th>0205616461</th>\n",
              "      <th>0558925278</th>\n",
              "      <th>0733001998</th>\n",
              "      <th>0737104473</th>\n",
              "      <th>0762451459</th>\n",
              "      <th>1304139212</th>\n",
              "      <th>1304139220</th>\n",
              "      <th>130414089X</th>\n",
              "      <th>130414643X</th>\n",
              "      <th>1304146537</th>\n",
              "      <th>...</th>\n",
              "      <th>B000052YPE</th>\n",
              "      <th>B000052YPF</th>\n",
              "      <th>B000052YPG</th>\n",
              "      <th>B000052YPH</th>\n",
              "      <th>B000052YPM</th>\n",
              "      <th>B000052YPU</th>\n",
              "      <th>B000052YPV</th>\n",
              "      <th>B000052YPY</th>\n",
              "      <th>B000052YQ0</th>\n",
              "      <th>B000052YQ2</th>\n",
              "    </tr>\n",
              "    <tr>\n",
              "      <th>UserId</th>\n",
              "      <th></th>\n",
              "      <th></th>\n",
              "      <th></th>\n",
              "      <th></th>\n",
              "      <th></th>\n",
              "      <th></th>\n",
              "      <th></th>\n",
              "      <th></th>\n",
              "      <th></th>\n",
              "      <th></th>\n",
              "      <th></th>\n",
              "      <th></th>\n",
              "      <th></th>\n",
              "      <th></th>\n",
              "      <th></th>\n",
              "      <th></th>\n",
              "      <th></th>\n",
              "      <th></th>\n",
              "      <th></th>\n",
              "      <th></th>\n",
              "      <th></th>\n",
              "    </tr>\n",
              "  </thead>\n",
              "  <tbody>\n",
              "    <tr>\n",
              "      <th>A00205921JHJK5X9LNP42</th>\n",
              "      <td>0.0</td>\n",
              "      <td>0.0</td>\n",
              "      <td>0.0</td>\n",
              "      <td>0.0</td>\n",
              "      <td>0.0</td>\n",
              "      <td>0.0</td>\n",
              "      <td>0.0</td>\n",
              "      <td>0.0</td>\n",
              "      <td>0.0</td>\n",
              "      <td>0.0</td>\n",
              "      <td>...</td>\n",
              "      <td>0.0</td>\n",
              "      <td>0.0</td>\n",
              "      <td>0.0</td>\n",
              "      <td>0.0</td>\n",
              "      <td>0.0</td>\n",
              "      <td>0.0</td>\n",
              "      <td>0.0</td>\n",
              "      <td>0.0</td>\n",
              "      <td>0.0</td>\n",
              "      <td>0.0</td>\n",
              "    </tr>\n",
              "    <tr>\n",
              "      <th>A024581134CV80ZBLIZTZ</th>\n",
              "      <td>0.0</td>\n",
              "      <td>0.0</td>\n",
              "      <td>0.0</td>\n",
              "      <td>0.0</td>\n",
              "      <td>0.0</td>\n",
              "      <td>0.0</td>\n",
              "      <td>0.0</td>\n",
              "      <td>0.0</td>\n",
              "      <td>0.0</td>\n",
              "      <td>0.0</td>\n",
              "      <td>...</td>\n",
              "      <td>0.0</td>\n",
              "      <td>0.0</td>\n",
              "      <td>0.0</td>\n",
              "      <td>0.0</td>\n",
              "      <td>0.0</td>\n",
              "      <td>0.0</td>\n",
              "      <td>0.0</td>\n",
              "      <td>0.0</td>\n",
              "      <td>0.0</td>\n",
              "      <td>0.0</td>\n",
              "    </tr>\n",
              "    <tr>\n",
              "      <th>A03056581JJIOL5FSKJY7</th>\n",
              "      <td>0.0</td>\n",
              "      <td>0.0</td>\n",
              "      <td>0.0</td>\n",
              "      <td>0.0</td>\n",
              "      <td>0.0</td>\n",
              "      <td>0.0</td>\n",
              "      <td>0.0</td>\n",
              "      <td>0.0</td>\n",
              "      <td>0.0</td>\n",
              "      <td>0.0</td>\n",
              "      <td>...</td>\n",
              "      <td>0.0</td>\n",
              "      <td>0.0</td>\n",
              "      <td>0.0</td>\n",
              "      <td>0.0</td>\n",
              "      <td>0.0</td>\n",
              "      <td>0.0</td>\n",
              "      <td>0.0</td>\n",
              "      <td>0.0</td>\n",
              "      <td>0.0</td>\n",
              "      <td>0.0</td>\n",
              "    </tr>\n",
              "    <tr>\n",
              "      <th>A03099101ZRK4K607JVHH</th>\n",
              "      <td>0.0</td>\n",
              "      <td>0.0</td>\n",
              "      <td>0.0</td>\n",
              "      <td>0.0</td>\n",
              "      <td>0.0</td>\n",
              "      <td>0.0</td>\n",
              "      <td>0.0</td>\n",
              "      <td>0.0</td>\n",
              "      <td>0.0</td>\n",
              "      <td>0.0</td>\n",
              "      <td>...</td>\n",
              "      <td>0.0</td>\n",
              "      <td>0.0</td>\n",
              "      <td>0.0</td>\n",
              "      <td>0.0</td>\n",
              "      <td>0.0</td>\n",
              "      <td>0.0</td>\n",
              "      <td>0.0</td>\n",
              "      <td>0.0</td>\n",
              "      <td>0.0</td>\n",
              "      <td>0.0</td>\n",
              "    </tr>\n",
              "    <tr>\n",
              "      <th>A0505229A7NSH3FRXRR4</th>\n",
              "      <td>0.0</td>\n",
              "      <td>0.0</td>\n",
              "      <td>0.0</td>\n",
              "      <td>0.0</td>\n",
              "      <td>0.0</td>\n",
              "      <td>0.0</td>\n",
              "      <td>0.0</td>\n",
              "      <td>0.0</td>\n",
              "      <td>0.0</td>\n",
              "      <td>0.0</td>\n",
              "      <td>...</td>\n",
              "      <td>0.0</td>\n",
              "      <td>0.0</td>\n",
              "      <td>0.0</td>\n",
              "      <td>0.0</td>\n",
              "      <td>0.0</td>\n",
              "      <td>0.0</td>\n",
              "      <td>0.0</td>\n",
              "      <td>0.0</td>\n",
              "      <td>0.0</td>\n",
              "      <td>0.0</td>\n",
              "    </tr>\n",
              "  </tbody>\n",
              "</table>\n",
              "<p>5 rows × 886 columns</p>\n",
              "</div>\n",
              "    <div class=\"colab-df-buttons\">\n",
              "\n",
              "  <div class=\"colab-df-container\">\n",
              "    <button class=\"colab-df-convert\" onclick=\"convertToInteractive('df-a8520197-493f-456b-a616-b43bfa097cb3')\"\n",
              "            title=\"Convert this dataframe to an interactive table.\"\n",
              "            style=\"display:none;\">\n",
              "\n",
              "  <svg xmlns=\"http://www.w3.org/2000/svg\" height=\"24px\" viewBox=\"0 -960 960 960\">\n",
              "    <path d=\"M120-120v-720h720v720H120Zm60-500h600v-160H180v160Zm220 220h160v-160H400v160Zm0 220h160v-160H400v160ZM180-400h160v-160H180v160Zm440 0h160v-160H620v160ZM180-180h160v-160H180v160Zm440 0h160v-160H620v160Z\"/>\n",
              "  </svg>\n",
              "    </button>\n",
              "\n",
              "  <style>\n",
              "    .colab-df-container {\n",
              "      display:flex;\n",
              "      gap: 12px;\n",
              "    }\n",
              "\n",
              "    .colab-df-convert {\n",
              "      background-color: #E8F0FE;\n",
              "      border: none;\n",
              "      border-radius: 50%;\n",
              "      cursor: pointer;\n",
              "      display: none;\n",
              "      fill: #1967D2;\n",
              "      height: 32px;\n",
              "      padding: 0 0 0 0;\n",
              "      width: 32px;\n",
              "    }\n",
              "\n",
              "    .colab-df-convert:hover {\n",
              "      background-color: #E2EBFA;\n",
              "      box-shadow: 0px 1px 2px rgba(60, 64, 67, 0.3), 0px 1px 3px 1px rgba(60, 64, 67, 0.15);\n",
              "      fill: #174EA6;\n",
              "    }\n",
              "\n",
              "    .colab-df-buttons div {\n",
              "      margin-bottom: 4px;\n",
              "    }\n",
              "\n",
              "    [theme=dark] .colab-df-convert {\n",
              "      background-color: #3B4455;\n",
              "      fill: #D2E3FC;\n",
              "    }\n",
              "\n",
              "    [theme=dark] .colab-df-convert:hover {\n",
              "      background-color: #434B5C;\n",
              "      box-shadow: 0px 1px 3px 1px rgba(0, 0, 0, 0.15);\n",
              "      filter: drop-shadow(0px 1px 2px rgba(0, 0, 0, 0.3));\n",
              "      fill: #FFFFFF;\n",
              "    }\n",
              "  </style>\n",
              "\n",
              "    <script>\n",
              "      const buttonEl =\n",
              "        document.querySelector('#df-a8520197-493f-456b-a616-b43bfa097cb3 button.colab-df-convert');\n",
              "      buttonEl.style.display =\n",
              "        google.colab.kernel.accessAllowed ? 'block' : 'none';\n",
              "\n",
              "      async function convertToInteractive(key) {\n",
              "        const element = document.querySelector('#df-a8520197-493f-456b-a616-b43bfa097cb3');\n",
              "        const dataTable =\n",
              "          await google.colab.kernel.invokeFunction('convertToInteractive',\n",
              "                                                    [key], {});\n",
              "        if (!dataTable) return;\n",
              "\n",
              "        const docLinkHtml = 'Like what you see? Visit the ' +\n",
              "          '<a target=\"_blank\" href=https://colab.research.google.com/notebooks/data_table.ipynb>data table notebook</a>'\n",
              "          + ' to learn more about interactive tables.';\n",
              "        element.innerHTML = '';\n",
              "        dataTable['output_type'] = 'display_data';\n",
              "        await google.colab.output.renderOutput(dataTable, element);\n",
              "        const docLink = document.createElement('div');\n",
              "        docLink.innerHTML = docLinkHtml;\n",
              "        element.appendChild(docLink);\n",
              "      }\n",
              "    </script>\n",
              "  </div>\n",
              "\n",
              "\n",
              "<div id=\"df-40e951f9-5916-4980-a822-fc5f3e9d1c2b\">\n",
              "  <button class=\"colab-df-quickchart\" onclick=\"quickchart('df-40e951f9-5916-4980-a822-fc5f3e9d1c2b')\"\n",
              "            title=\"Suggest charts\"\n",
              "            style=\"display:none;\">\n",
              "\n",
              "<svg xmlns=\"http://www.w3.org/2000/svg\" height=\"24px\"viewBox=\"0 0 24 24\"\n",
              "     width=\"24px\">\n",
              "    <g>\n",
              "        <path d=\"M19 3H5c-1.1 0-2 .9-2 2v14c0 1.1.9 2 2 2h14c1.1 0 2-.9 2-2V5c0-1.1-.9-2-2-2zM9 17H7v-7h2v7zm4 0h-2V7h2v10zm4 0h-2v-4h2v4z\"/>\n",
              "    </g>\n",
              "</svg>\n",
              "  </button>\n",
              "\n",
              "<style>\n",
              "  .colab-df-quickchart {\n",
              "      --bg-color: #E8F0FE;\n",
              "      --fill-color: #1967D2;\n",
              "      --hover-bg-color: #E2EBFA;\n",
              "      --hover-fill-color: #174EA6;\n",
              "      --disabled-fill-color: #AAA;\n",
              "      --disabled-bg-color: #DDD;\n",
              "  }\n",
              "\n",
              "  [theme=dark] .colab-df-quickchart {\n",
              "      --bg-color: #3B4455;\n",
              "      --fill-color: #D2E3FC;\n",
              "      --hover-bg-color: #434B5C;\n",
              "      --hover-fill-color: #FFFFFF;\n",
              "      --disabled-bg-color: #3B4455;\n",
              "      --disabled-fill-color: #666;\n",
              "  }\n",
              "\n",
              "  .colab-df-quickchart {\n",
              "    background-color: var(--bg-color);\n",
              "    border: none;\n",
              "    border-radius: 50%;\n",
              "    cursor: pointer;\n",
              "    display: none;\n",
              "    fill: var(--fill-color);\n",
              "    height: 32px;\n",
              "    padding: 0;\n",
              "    width: 32px;\n",
              "  }\n",
              "\n",
              "  .colab-df-quickchart:hover {\n",
              "    background-color: var(--hover-bg-color);\n",
              "    box-shadow: 0 1px 2px rgba(60, 64, 67, 0.3), 0 1px 3px 1px rgba(60, 64, 67, 0.15);\n",
              "    fill: var(--button-hover-fill-color);\n",
              "  }\n",
              "\n",
              "  .colab-df-quickchart-complete:disabled,\n",
              "  .colab-df-quickchart-complete:disabled:hover {\n",
              "    background-color: var(--disabled-bg-color);\n",
              "    fill: var(--disabled-fill-color);\n",
              "    box-shadow: none;\n",
              "  }\n",
              "\n",
              "  .colab-df-spinner {\n",
              "    border: 2px solid var(--fill-color);\n",
              "    border-color: transparent;\n",
              "    border-bottom-color: var(--fill-color);\n",
              "    animation:\n",
              "      spin 1s steps(1) infinite;\n",
              "  }\n",
              "\n",
              "  @keyframes spin {\n",
              "    0% {\n",
              "      border-color: transparent;\n",
              "      border-bottom-color: var(--fill-color);\n",
              "      border-left-color: var(--fill-color);\n",
              "    }\n",
              "    20% {\n",
              "      border-color: transparent;\n",
              "      border-left-color: var(--fill-color);\n",
              "      border-top-color: var(--fill-color);\n",
              "    }\n",
              "    30% {\n",
              "      border-color: transparent;\n",
              "      border-left-color: var(--fill-color);\n",
              "      border-top-color: var(--fill-color);\n",
              "      border-right-color: var(--fill-color);\n",
              "    }\n",
              "    40% {\n",
              "      border-color: transparent;\n",
              "      border-right-color: var(--fill-color);\n",
              "      border-top-color: var(--fill-color);\n",
              "    }\n",
              "    60% {\n",
              "      border-color: transparent;\n",
              "      border-right-color: var(--fill-color);\n",
              "    }\n",
              "    80% {\n",
              "      border-color: transparent;\n",
              "      border-right-color: var(--fill-color);\n",
              "      border-bottom-color: var(--fill-color);\n",
              "    }\n",
              "    90% {\n",
              "      border-color: transparent;\n",
              "      border-bottom-color: var(--fill-color);\n",
              "    }\n",
              "  }\n",
              "</style>\n",
              "\n",
              "  <script>\n",
              "    async function quickchart(key) {\n",
              "      const quickchartButtonEl =\n",
              "        document.querySelector('#' + key + ' button');\n",
              "      quickchartButtonEl.disabled = true;  // To prevent multiple clicks.\n",
              "      quickchartButtonEl.classList.add('colab-df-spinner');\n",
              "      try {\n",
              "        const charts = await google.colab.kernel.invokeFunction(\n",
              "            'suggestCharts', [key], {});\n",
              "      } catch (error) {\n",
              "        console.error('Error during call to suggestCharts:', error);\n",
              "      }\n",
              "      quickchartButtonEl.classList.remove('colab-df-spinner');\n",
              "      quickchartButtonEl.classList.add('colab-df-quickchart-complete');\n",
              "    }\n",
              "    (() => {\n",
              "      let quickchartButtonEl =\n",
              "        document.querySelector('#df-40e951f9-5916-4980-a822-fc5f3e9d1c2b button');\n",
              "      quickchartButtonEl.style.display =\n",
              "        google.colab.kernel.accessAllowed ? 'block' : 'none';\n",
              "    })();\n",
              "  </script>\n",
              "</div>\n",
              "\n",
              "    </div>\n",
              "  </div>\n"
            ],
            "application/vnd.google.colaboratory.intrinsic+json": {
              "type": "dataframe",
              "variable_name": "ratings_utility_matrix"
            }
          },
          "metadata": {},
          "execution_count": 41
        }
      ]
    },
    {
      "cell_type": "markdown",
      "source": [
        "The utility matrix obtaned above is sparce, and filled up the unknown values wth 0."
      ],
      "metadata": {
        "id": "djaVpyLlcwkm"
      }
    },
    {
      "cell_type": "code",
      "source": [
        "ratings_utility_matrix.shape"
      ],
      "metadata": {
        "execution": {
          "iopub.status.busy": "2024-09-17T03:39:13.749485Z",
          "iopub.execute_input": "2024-09-17T03:39:13.749869Z",
          "iopub.status.idle": "2024-09-17T03:39:13.755816Z",
          "shell.execute_reply.started": "2024-09-17T03:39:13.749804Z",
          "shell.execute_reply": "2024-09-17T03:39:13.754906Z"
        },
        "trusted": true,
        "id": "ItSyYNuRcwkn",
        "colab": {
          "base_uri": "https://localhost:8080/"
        },
        "outputId": "89fc551c-9921-4761-91aa-a74b76ed4c34"
      },
      "execution_count": 42,
      "outputs": [
        {
          "output_type": "execute_result",
          "data": {
            "text/plain": [
              "(9697, 886)"
            ]
          },
          "metadata": {},
          "execution_count": 42
        }
      ]
    },
    {
      "cell_type": "markdown",
      "source": [
        "Transposing the matrix"
      ],
      "metadata": {
        "id": "0qn_OYlgcwkn"
      }
    },
    {
      "cell_type": "code",
      "source": [
        "X = ratings_utility_matrix.T\n",
        "X.head()"
      ],
      "metadata": {
        "execution": {
          "iopub.status.busy": "2024-09-17T03:39:13.757497Z",
          "iopub.execute_input": "2024-09-17T03:39:13.75799Z",
          "iopub.status.idle": "2024-09-17T03:39:13.789818Z",
          "shell.execute_reply.started": "2024-09-17T03:39:13.757914Z",
          "shell.execute_reply": "2024-09-17T03:39:13.7889Z"
        },
        "trusted": true,
        "id": "kkIdG1Mlcwkn",
        "colab": {
          "base_uri": "https://localhost:8080/",
          "height": 287
        },
        "outputId": "07cee7d6-3188-4d12-ed20-cbb94a2c25e8"
      },
      "execution_count": 43,
      "outputs": [
        {
          "output_type": "execute_result",
          "data": {
            "text/plain": [
              "UserId      A00205921JHJK5X9LNP42  A024581134CV80ZBLIZTZ  \\\n",
              "ProductId                                                  \n",
              "0205616461                    0.0                    0.0   \n",
              "0558925278                    0.0                    0.0   \n",
              "0733001998                    0.0                    0.0   \n",
              "0737104473                    0.0                    0.0   \n",
              "0762451459                    0.0                    0.0   \n",
              "\n",
              "UserId      A03056581JJIOL5FSKJY7  A03099101ZRK4K607JVHH  \\\n",
              "ProductId                                                  \n",
              "0205616461                    0.0                    0.0   \n",
              "0558925278                    0.0                    0.0   \n",
              "0733001998                    0.0                    0.0   \n",
              "0737104473                    0.0                    0.0   \n",
              "0762451459                    0.0                    0.0   \n",
              "\n",
              "UserId      A0505229A7NSH3FRXRR4  A05492663T95KW63BR75K  \\\n",
              "ProductId                                                 \n",
              "0205616461                   0.0                    0.0   \n",
              "0558925278                   0.0                    0.0   \n",
              "0733001998                   0.0                    0.0   \n",
              "0737104473                   0.0                    0.0   \n",
              "0762451459                   0.0                    0.0   \n",
              "\n",
              "UserId      A059547920Q3LZVFHLPI3  A07410232KYRFR25CIUGJ  \\\n",
              "ProductId                                                  \n",
              "0205616461                    0.0                    0.0   \n",
              "0558925278                    0.0                    0.0   \n",
              "0733001998                    0.0                    0.0   \n",
              "0737104473                    0.0                    0.0   \n",
              "0762451459                    0.0                    0.0   \n",
              "\n",
              "UserId      A082796624UNM47DSAI6K  A0864963DOAY7LXGS5I6  ...  AZW1HXXYAC15B  \\\n",
              "ProductId                                                ...                  \n",
              "0205616461                    0.0                   0.0  ...            0.0   \n",
              "0558925278                    0.0                   0.0  ...            0.0   \n",
              "0733001998                    0.0                   0.0  ...            0.0   \n",
              "0737104473                    0.0                   0.0  ...            0.0   \n",
              "0762451459                    0.0                   0.0  ...            0.0   \n",
              "\n",
              "UserId      AZWRTJPN7NXT  AZWTXHXZXFAYP  AZYQEFB9Y5N22  AZZHB6U54UDYW  \\\n",
              "ProductId                                                               \n",
              "0205616461           0.0            0.0            0.0            0.0   \n",
              "0558925278           0.0            0.0            0.0            0.0   \n",
              "0733001998           0.0            0.0            0.0            0.0   \n",
              "0737104473           0.0            0.0            0.0            0.0   \n",
              "0762451459           0.0            0.0            0.0            0.0   \n",
              "\n",
              "UserId      AZZHJZP4GQPPZ  AZZNK89PXD006  AZZOFVMQC0BJG  AZZQXL8VDCFTV  \\\n",
              "ProductId                                                                \n",
              "0205616461            0.0            0.0            0.0            0.0   \n",
              "0558925278            0.0            0.0            0.0            0.0   \n",
              "0733001998            0.0            0.0            0.0            0.0   \n",
              "0737104473            0.0            0.0            0.0            0.0   \n",
              "0762451459            0.0            0.0            0.0            0.0   \n",
              "\n",
              "UserId      AZZTJQ7CQZUD8  \n",
              "ProductId                  \n",
              "0205616461            0.0  \n",
              "0558925278            0.0  \n",
              "0733001998            0.0  \n",
              "0737104473            0.0  \n",
              "0762451459            0.0  \n",
              "\n",
              "[5 rows x 9697 columns]"
            ],
            "text/html": [
              "\n",
              "  <div id=\"df-601c2fe6-8eda-4746-a255-99fd22c8bd81\" class=\"colab-df-container\">\n",
              "    <div>\n",
              "<style scoped>\n",
              "    .dataframe tbody tr th:only-of-type {\n",
              "        vertical-align: middle;\n",
              "    }\n",
              "\n",
              "    .dataframe tbody tr th {\n",
              "        vertical-align: top;\n",
              "    }\n",
              "\n",
              "    .dataframe thead th {\n",
              "        text-align: right;\n",
              "    }\n",
              "</style>\n",
              "<table border=\"1\" class=\"dataframe\">\n",
              "  <thead>\n",
              "    <tr style=\"text-align: right;\">\n",
              "      <th>UserId</th>\n",
              "      <th>A00205921JHJK5X9LNP42</th>\n",
              "      <th>A024581134CV80ZBLIZTZ</th>\n",
              "      <th>A03056581JJIOL5FSKJY7</th>\n",
              "      <th>A03099101ZRK4K607JVHH</th>\n",
              "      <th>A0505229A7NSH3FRXRR4</th>\n",
              "      <th>A05492663T95KW63BR75K</th>\n",
              "      <th>A059547920Q3LZVFHLPI3</th>\n",
              "      <th>A07410232KYRFR25CIUGJ</th>\n",
              "      <th>A082796624UNM47DSAI6K</th>\n",
              "      <th>A0864963DOAY7LXGS5I6</th>\n",
              "      <th>...</th>\n",
              "      <th>AZW1HXXYAC15B</th>\n",
              "      <th>AZWRTJPN7NXT</th>\n",
              "      <th>AZWTXHXZXFAYP</th>\n",
              "      <th>AZYQEFB9Y5N22</th>\n",
              "      <th>AZZHB6U54UDYW</th>\n",
              "      <th>AZZHJZP4GQPPZ</th>\n",
              "      <th>AZZNK89PXD006</th>\n",
              "      <th>AZZOFVMQC0BJG</th>\n",
              "      <th>AZZQXL8VDCFTV</th>\n",
              "      <th>AZZTJQ7CQZUD8</th>\n",
              "    </tr>\n",
              "    <tr>\n",
              "      <th>ProductId</th>\n",
              "      <th></th>\n",
              "      <th></th>\n",
              "      <th></th>\n",
              "      <th></th>\n",
              "      <th></th>\n",
              "      <th></th>\n",
              "      <th></th>\n",
              "      <th></th>\n",
              "      <th></th>\n",
              "      <th></th>\n",
              "      <th></th>\n",
              "      <th></th>\n",
              "      <th></th>\n",
              "      <th></th>\n",
              "      <th></th>\n",
              "      <th></th>\n",
              "      <th></th>\n",
              "      <th></th>\n",
              "      <th></th>\n",
              "      <th></th>\n",
              "      <th></th>\n",
              "    </tr>\n",
              "  </thead>\n",
              "  <tbody>\n",
              "    <tr>\n",
              "      <th>0205616461</th>\n",
              "      <td>0.0</td>\n",
              "      <td>0.0</td>\n",
              "      <td>0.0</td>\n",
              "      <td>0.0</td>\n",
              "      <td>0.0</td>\n",
              "      <td>0.0</td>\n",
              "      <td>0.0</td>\n",
              "      <td>0.0</td>\n",
              "      <td>0.0</td>\n",
              "      <td>0.0</td>\n",
              "      <td>...</td>\n",
              "      <td>0.0</td>\n",
              "      <td>0.0</td>\n",
              "      <td>0.0</td>\n",
              "      <td>0.0</td>\n",
              "      <td>0.0</td>\n",
              "      <td>0.0</td>\n",
              "      <td>0.0</td>\n",
              "      <td>0.0</td>\n",
              "      <td>0.0</td>\n",
              "      <td>0.0</td>\n",
              "    </tr>\n",
              "    <tr>\n",
              "      <th>0558925278</th>\n",
              "      <td>0.0</td>\n",
              "      <td>0.0</td>\n",
              "      <td>0.0</td>\n",
              "      <td>0.0</td>\n",
              "      <td>0.0</td>\n",
              "      <td>0.0</td>\n",
              "      <td>0.0</td>\n",
              "      <td>0.0</td>\n",
              "      <td>0.0</td>\n",
              "      <td>0.0</td>\n",
              "      <td>...</td>\n",
              "      <td>0.0</td>\n",
              "      <td>0.0</td>\n",
              "      <td>0.0</td>\n",
              "      <td>0.0</td>\n",
              "      <td>0.0</td>\n",
              "      <td>0.0</td>\n",
              "      <td>0.0</td>\n",
              "      <td>0.0</td>\n",
              "      <td>0.0</td>\n",
              "      <td>0.0</td>\n",
              "    </tr>\n",
              "    <tr>\n",
              "      <th>0733001998</th>\n",
              "      <td>0.0</td>\n",
              "      <td>0.0</td>\n",
              "      <td>0.0</td>\n",
              "      <td>0.0</td>\n",
              "      <td>0.0</td>\n",
              "      <td>0.0</td>\n",
              "      <td>0.0</td>\n",
              "      <td>0.0</td>\n",
              "      <td>0.0</td>\n",
              "      <td>0.0</td>\n",
              "      <td>...</td>\n",
              "      <td>0.0</td>\n",
              "      <td>0.0</td>\n",
              "      <td>0.0</td>\n",
              "      <td>0.0</td>\n",
              "      <td>0.0</td>\n",
              "      <td>0.0</td>\n",
              "      <td>0.0</td>\n",
              "      <td>0.0</td>\n",
              "      <td>0.0</td>\n",
              "      <td>0.0</td>\n",
              "    </tr>\n",
              "    <tr>\n",
              "      <th>0737104473</th>\n",
              "      <td>0.0</td>\n",
              "      <td>0.0</td>\n",
              "      <td>0.0</td>\n",
              "      <td>0.0</td>\n",
              "      <td>0.0</td>\n",
              "      <td>0.0</td>\n",
              "      <td>0.0</td>\n",
              "      <td>0.0</td>\n",
              "      <td>0.0</td>\n",
              "      <td>0.0</td>\n",
              "      <td>...</td>\n",
              "      <td>0.0</td>\n",
              "      <td>0.0</td>\n",
              "      <td>0.0</td>\n",
              "      <td>0.0</td>\n",
              "      <td>0.0</td>\n",
              "      <td>0.0</td>\n",
              "      <td>0.0</td>\n",
              "      <td>0.0</td>\n",
              "      <td>0.0</td>\n",
              "      <td>0.0</td>\n",
              "    </tr>\n",
              "    <tr>\n",
              "      <th>0762451459</th>\n",
              "      <td>0.0</td>\n",
              "      <td>0.0</td>\n",
              "      <td>0.0</td>\n",
              "      <td>0.0</td>\n",
              "      <td>0.0</td>\n",
              "      <td>0.0</td>\n",
              "      <td>0.0</td>\n",
              "      <td>0.0</td>\n",
              "      <td>0.0</td>\n",
              "      <td>0.0</td>\n",
              "      <td>...</td>\n",
              "      <td>0.0</td>\n",
              "      <td>0.0</td>\n",
              "      <td>0.0</td>\n",
              "      <td>0.0</td>\n",
              "      <td>0.0</td>\n",
              "      <td>0.0</td>\n",
              "      <td>0.0</td>\n",
              "      <td>0.0</td>\n",
              "      <td>0.0</td>\n",
              "      <td>0.0</td>\n",
              "    </tr>\n",
              "  </tbody>\n",
              "</table>\n",
              "<p>5 rows × 9697 columns</p>\n",
              "</div>\n",
              "    <div class=\"colab-df-buttons\">\n",
              "\n",
              "  <div class=\"colab-df-container\">\n",
              "    <button class=\"colab-df-convert\" onclick=\"convertToInteractive('df-601c2fe6-8eda-4746-a255-99fd22c8bd81')\"\n",
              "            title=\"Convert this dataframe to an interactive table.\"\n",
              "            style=\"display:none;\">\n",
              "\n",
              "  <svg xmlns=\"http://www.w3.org/2000/svg\" height=\"24px\" viewBox=\"0 -960 960 960\">\n",
              "    <path d=\"M120-120v-720h720v720H120Zm60-500h600v-160H180v160Zm220 220h160v-160H400v160Zm0 220h160v-160H400v160ZM180-400h160v-160H180v160Zm440 0h160v-160H620v160ZM180-180h160v-160H180v160Zm440 0h160v-160H620v160Z\"/>\n",
              "  </svg>\n",
              "    </button>\n",
              "\n",
              "  <style>\n",
              "    .colab-df-container {\n",
              "      display:flex;\n",
              "      gap: 12px;\n",
              "    }\n",
              "\n",
              "    .colab-df-convert {\n",
              "      background-color: #E8F0FE;\n",
              "      border: none;\n",
              "      border-radius: 50%;\n",
              "      cursor: pointer;\n",
              "      display: none;\n",
              "      fill: #1967D2;\n",
              "      height: 32px;\n",
              "      padding: 0 0 0 0;\n",
              "      width: 32px;\n",
              "    }\n",
              "\n",
              "    .colab-df-convert:hover {\n",
              "      background-color: #E2EBFA;\n",
              "      box-shadow: 0px 1px 2px rgba(60, 64, 67, 0.3), 0px 1px 3px 1px rgba(60, 64, 67, 0.15);\n",
              "      fill: #174EA6;\n",
              "    }\n",
              "\n",
              "    .colab-df-buttons div {\n",
              "      margin-bottom: 4px;\n",
              "    }\n",
              "\n",
              "    [theme=dark] .colab-df-convert {\n",
              "      background-color: #3B4455;\n",
              "      fill: #D2E3FC;\n",
              "    }\n",
              "\n",
              "    [theme=dark] .colab-df-convert:hover {\n",
              "      background-color: #434B5C;\n",
              "      box-shadow: 0px 1px 3px 1px rgba(0, 0, 0, 0.15);\n",
              "      filter: drop-shadow(0px 1px 2px rgba(0, 0, 0, 0.3));\n",
              "      fill: #FFFFFF;\n",
              "    }\n",
              "  </style>\n",
              "\n",
              "    <script>\n",
              "      const buttonEl =\n",
              "        document.querySelector('#df-601c2fe6-8eda-4746-a255-99fd22c8bd81 button.colab-df-convert');\n",
              "      buttonEl.style.display =\n",
              "        google.colab.kernel.accessAllowed ? 'block' : 'none';\n",
              "\n",
              "      async function convertToInteractive(key) {\n",
              "        const element = document.querySelector('#df-601c2fe6-8eda-4746-a255-99fd22c8bd81');\n",
              "        const dataTable =\n",
              "          await google.colab.kernel.invokeFunction('convertToInteractive',\n",
              "                                                    [key], {});\n",
              "        if (!dataTable) return;\n",
              "\n",
              "        const docLinkHtml = 'Like what you see? Visit the ' +\n",
              "          '<a target=\"_blank\" href=https://colab.research.google.com/notebooks/data_table.ipynb>data table notebook</a>'\n",
              "          + ' to learn more about interactive tables.';\n",
              "        element.innerHTML = '';\n",
              "        dataTable['output_type'] = 'display_data';\n",
              "        await google.colab.output.renderOutput(dataTable, element);\n",
              "        const docLink = document.createElement('div');\n",
              "        docLink.innerHTML = docLinkHtml;\n",
              "        element.appendChild(docLink);\n",
              "      }\n",
              "    </script>\n",
              "  </div>\n",
              "\n",
              "\n",
              "<div id=\"df-a618c063-a633-437b-b2dc-fa872c5d1ba8\">\n",
              "  <button class=\"colab-df-quickchart\" onclick=\"quickchart('df-a618c063-a633-437b-b2dc-fa872c5d1ba8')\"\n",
              "            title=\"Suggest charts\"\n",
              "            style=\"display:none;\">\n",
              "\n",
              "<svg xmlns=\"http://www.w3.org/2000/svg\" height=\"24px\"viewBox=\"0 0 24 24\"\n",
              "     width=\"24px\">\n",
              "    <g>\n",
              "        <path d=\"M19 3H5c-1.1 0-2 .9-2 2v14c0 1.1.9 2 2 2h14c1.1 0 2-.9 2-2V5c0-1.1-.9-2-2-2zM9 17H7v-7h2v7zm4 0h-2V7h2v10zm4 0h-2v-4h2v4z\"/>\n",
              "    </g>\n",
              "</svg>\n",
              "  </button>\n",
              "\n",
              "<style>\n",
              "  .colab-df-quickchart {\n",
              "      --bg-color: #E8F0FE;\n",
              "      --fill-color: #1967D2;\n",
              "      --hover-bg-color: #E2EBFA;\n",
              "      --hover-fill-color: #174EA6;\n",
              "      --disabled-fill-color: #AAA;\n",
              "      --disabled-bg-color: #DDD;\n",
              "  }\n",
              "\n",
              "  [theme=dark] .colab-df-quickchart {\n",
              "      --bg-color: #3B4455;\n",
              "      --fill-color: #D2E3FC;\n",
              "      --hover-bg-color: #434B5C;\n",
              "      --hover-fill-color: #FFFFFF;\n",
              "      --disabled-bg-color: #3B4455;\n",
              "      --disabled-fill-color: #666;\n",
              "  }\n",
              "\n",
              "  .colab-df-quickchart {\n",
              "    background-color: var(--bg-color);\n",
              "    border: none;\n",
              "    border-radius: 50%;\n",
              "    cursor: pointer;\n",
              "    display: none;\n",
              "    fill: var(--fill-color);\n",
              "    height: 32px;\n",
              "    padding: 0;\n",
              "    width: 32px;\n",
              "  }\n",
              "\n",
              "  .colab-df-quickchart:hover {\n",
              "    background-color: var(--hover-bg-color);\n",
              "    box-shadow: 0 1px 2px rgba(60, 64, 67, 0.3), 0 1px 3px 1px rgba(60, 64, 67, 0.15);\n",
              "    fill: var(--button-hover-fill-color);\n",
              "  }\n",
              "\n",
              "  .colab-df-quickchart-complete:disabled,\n",
              "  .colab-df-quickchart-complete:disabled:hover {\n",
              "    background-color: var(--disabled-bg-color);\n",
              "    fill: var(--disabled-fill-color);\n",
              "    box-shadow: none;\n",
              "  }\n",
              "\n",
              "  .colab-df-spinner {\n",
              "    border: 2px solid var(--fill-color);\n",
              "    border-color: transparent;\n",
              "    border-bottom-color: var(--fill-color);\n",
              "    animation:\n",
              "      spin 1s steps(1) infinite;\n",
              "  }\n",
              "\n",
              "  @keyframes spin {\n",
              "    0% {\n",
              "      border-color: transparent;\n",
              "      border-bottom-color: var(--fill-color);\n",
              "      border-left-color: var(--fill-color);\n",
              "    }\n",
              "    20% {\n",
              "      border-color: transparent;\n",
              "      border-left-color: var(--fill-color);\n",
              "      border-top-color: var(--fill-color);\n",
              "    }\n",
              "    30% {\n",
              "      border-color: transparent;\n",
              "      border-left-color: var(--fill-color);\n",
              "      border-top-color: var(--fill-color);\n",
              "      border-right-color: var(--fill-color);\n",
              "    }\n",
              "    40% {\n",
              "      border-color: transparent;\n",
              "      border-right-color: var(--fill-color);\n",
              "      border-top-color: var(--fill-color);\n",
              "    }\n",
              "    60% {\n",
              "      border-color: transparent;\n",
              "      border-right-color: var(--fill-color);\n",
              "    }\n",
              "    80% {\n",
              "      border-color: transparent;\n",
              "      border-right-color: var(--fill-color);\n",
              "      border-bottom-color: var(--fill-color);\n",
              "    }\n",
              "    90% {\n",
              "      border-color: transparent;\n",
              "      border-bottom-color: var(--fill-color);\n",
              "    }\n",
              "  }\n",
              "</style>\n",
              "\n",
              "  <script>\n",
              "    async function quickchart(key) {\n",
              "      const quickchartButtonEl =\n",
              "        document.querySelector('#' + key + ' button');\n",
              "      quickchartButtonEl.disabled = true;  // To prevent multiple clicks.\n",
              "      quickchartButtonEl.classList.add('colab-df-spinner');\n",
              "      try {\n",
              "        const charts = await google.colab.kernel.invokeFunction(\n",
              "            'suggestCharts', [key], {});\n",
              "      } catch (error) {\n",
              "        console.error('Error during call to suggestCharts:', error);\n",
              "      }\n",
              "      quickchartButtonEl.classList.remove('colab-df-spinner');\n",
              "      quickchartButtonEl.classList.add('colab-df-quickchart-complete');\n",
              "    }\n",
              "    (() => {\n",
              "      let quickchartButtonEl =\n",
              "        document.querySelector('#df-a618c063-a633-437b-b2dc-fa872c5d1ba8 button');\n",
              "      quickchartButtonEl.style.display =\n",
              "        google.colab.kernel.accessAllowed ? 'block' : 'none';\n",
              "    })();\n",
              "  </script>\n",
              "</div>\n",
              "\n",
              "    </div>\n",
              "  </div>\n"
            ],
            "application/vnd.google.colaboratory.intrinsic+json": {
              "type": "dataframe",
              "variable_name": "X"
            }
          },
          "metadata": {},
          "execution_count": 43
        }
      ]
    },
    {
      "cell_type": "code",
      "source": [
        "X.shape"
      ],
      "metadata": {
        "execution": {
          "iopub.status.busy": "2024-09-17T03:39:13.79128Z",
          "iopub.execute_input": "2024-09-17T03:39:13.791613Z",
          "iopub.status.idle": "2024-09-17T03:39:13.797608Z",
          "shell.execute_reply.started": "2024-09-17T03:39:13.791553Z",
          "shell.execute_reply": "2024-09-17T03:39:13.796655Z"
        },
        "trusted": true,
        "id": "MlsXYaKtcwko",
        "colab": {
          "base_uri": "https://localhost:8080/"
        },
        "outputId": "4c6a2156-ca27-44aa-cad2-5bdfa7aa89cc"
      },
      "execution_count": 44,
      "outputs": [
        {
          "output_type": "execute_result",
          "data": {
            "text/plain": [
              "(886, 9697)"
            ]
          },
          "metadata": {},
          "execution_count": 44
        }
      ]
    },
    {
      "cell_type": "markdown",
      "source": [
        "Unique products in subset of data"
      ],
      "metadata": {
        "id": "AxBnsC3Gcwko"
      }
    },
    {
      "cell_type": "code",
      "source": [
        "X1 = X"
      ],
      "metadata": {
        "execution": {
          "iopub.status.busy": "2024-09-17T03:39:13.799708Z",
          "iopub.execute_input": "2024-09-17T03:39:13.800084Z",
          "iopub.status.idle": "2024-09-17T03:39:13.806005Z",
          "shell.execute_reply.started": "2024-09-17T03:39:13.800018Z",
          "shell.execute_reply": "2024-09-17T03:39:13.804867Z"
        },
        "trusted": true,
        "id": "UJqGZEOTcwko"
      },
      "execution_count": 45,
      "outputs": []
    },
    {
      "cell_type": "markdown",
      "source": [
        "### Decomposing the Matrix"
      ],
      "metadata": {
        "id": "31fz0Xl7cwko"
      }
    },
    {
      "cell_type": "code",
      "source": [
        "SVD = TruncatedSVD(n_components=10)\n",
        "decomposed_matrix = SVD.fit_transform(X)\n",
        "decomposed_matrix.shape"
      ],
      "metadata": {
        "execution": {
          "iopub.status.busy": "2024-09-17T03:39:13.807976Z",
          "iopub.execute_input": "2024-09-17T03:39:13.808408Z",
          "iopub.status.idle": "2024-09-17T03:39:15.546837Z",
          "shell.execute_reply.started": "2024-09-17T03:39:13.808331Z",
          "shell.execute_reply": "2024-09-17T03:39:15.54578Z"
        },
        "trusted": true,
        "id": "rU7RqIuTcwko",
        "colab": {
          "base_uri": "https://localhost:8080/"
        },
        "outputId": "872982a8-962a-4768-a25b-9ca201aeaf0e"
      },
      "execution_count": 46,
      "outputs": [
        {
          "output_type": "execute_result",
          "data": {
            "text/plain": [
              "(886, 10)"
            ]
          },
          "metadata": {},
          "execution_count": 46
        }
      ]
    },
    {
      "cell_type": "markdown",
      "source": [
        "### Correlation Matrix"
      ],
      "metadata": {
        "id": "YvHzoI1wcwko"
      }
    },
    {
      "cell_type": "code",
      "source": [
        "correlation_matrix = np.corrcoef(decomposed_matrix)\n",
        "correlation_matrix.shape"
      ],
      "metadata": {
        "execution": {
          "iopub.status.busy": "2024-09-17T03:39:15.548389Z",
          "iopub.execute_input": "2024-09-17T03:39:15.548696Z",
          "iopub.status.idle": "2024-09-17T03:39:15.578351Z",
          "shell.execute_reply.started": "2024-09-17T03:39:15.548648Z",
          "shell.execute_reply": "2024-09-17T03:39:15.576977Z"
        },
        "trusted": true,
        "id": "HwxH7C2pcwko",
        "colab": {
          "base_uri": "https://localhost:8080/"
        },
        "outputId": "d6b8df52-76a6-4846-a9af-e0bf168ce7af"
      },
      "execution_count": 47,
      "outputs": [
        {
          "output_type": "execute_result",
          "data": {
            "text/plain": [
              "(886, 886)"
            ]
          },
          "metadata": {},
          "execution_count": 47
        }
      ]
    },
    {
      "cell_type": "markdown",
      "source": [
        "### Isolating Product ID # 6053640972 from the Correlation Matrix\n",
        "\n",
        "Assuming the customer buys Product ID # 6053640972 (randomly chosen)"
      ],
      "metadata": {
        "id": "7GR5YfAFcwkp"
      }
    },
    {
      "cell_type": "code",
      "source": [
        "X.index[98]"
      ],
      "metadata": {
        "scrolled": true,
        "execution": {
          "iopub.status.busy": "2024-09-17T03:39:15.586719Z",
          "iopub.execute_input": "2024-09-17T03:39:15.591189Z",
          "iopub.status.idle": "2024-09-17T03:39:15.608297Z",
          "shell.execute_reply.started": "2024-09-17T03:39:15.59107Z",
          "shell.execute_reply": "2024-09-17T03:39:15.606843Z"
        },
        "trusted": true,
        "id": "_8ypQVaQcwkp",
        "colab": {
          "base_uri": "https://localhost:8080/",
          "height": 36
        },
        "outputId": "cd2cf281-4363-4b7f-c482-27e7270544dc"
      },
      "execution_count": 49,
      "outputs": [
        {
          "output_type": "execute_result",
          "data": {
            "text/plain": [
              "'6053640972'"
            ],
            "application/vnd.google.colaboratory.intrinsic+json": {
              "type": "string"
            }
          },
          "metadata": {},
          "execution_count": 49
        }
      ]
    },
    {
      "cell_type": "markdown",
      "source": [
        "Index # of product ID purchased by customer"
      ],
      "metadata": {
        "id": "MHcSjFtzcwkp"
      }
    },
    {
      "cell_type": "code",
      "source": [
        "i = \"6053640972\"\n",
        "\n",
        "product_names = list(X.index)\n",
        "product_ID = product_names.index(i)\n",
        "product_ID"
      ],
      "metadata": {
        "execution": {
          "iopub.status.busy": "2024-09-17T03:39:15.610185Z",
          "iopub.execute_input": "2024-09-17T03:39:15.610954Z",
          "iopub.status.idle": "2024-09-17T03:39:15.621334Z",
          "shell.execute_reply.started": "2024-09-17T03:39:15.610883Z",
          "shell.execute_reply": "2024-09-17T03:39:15.620113Z"
        },
        "trusted": true,
        "id": "P3r3Rp3Acwkp",
        "colab": {
          "base_uri": "https://localhost:8080/"
        },
        "outputId": "80ca0b34-5cbb-46c4-fa78-1097d4adfd5f"
      },
      "execution_count": 50,
      "outputs": [
        {
          "output_type": "execute_result",
          "data": {
            "text/plain": [
              "98"
            ]
          },
          "metadata": {},
          "execution_count": 50
        }
      ]
    },
    {
      "cell_type": "code",
      "source": [
        "correlation_product_ID = correlation_matrix[product_ID]\n",
        "correlation_product_ID.shape"
      ],
      "metadata": {
        "execution": {
          "iopub.status.busy": "2024-09-17T03:39:15.623975Z",
          "iopub.execute_input": "2024-09-17T03:39:15.6247Z",
          "iopub.status.idle": "2024-09-17T03:39:15.634521Z",
          "shell.execute_reply.started": "2024-09-17T03:39:15.624611Z",
          "shell.execute_reply": "2024-09-17T03:39:15.633187Z"
        },
        "trusted": true,
        "id": "jOU8O9R8cwkp",
        "colab": {
          "base_uri": "https://localhost:8080/"
        },
        "outputId": "514021ac-0f3c-436e-b79a-9ea71b7c7f3d"
      },
      "execution_count": 51,
      "outputs": [
        {
          "output_type": "execute_result",
          "data": {
            "text/plain": [
              "(886,)"
            ]
          },
          "metadata": {},
          "execution_count": 51
        }
      ]
    },
    {
      "cell_type": "markdown",
      "source": [
        "### Recommending top 10 highly correlated products in sequence"
      ],
      "metadata": {
        "id": "8FBPxnSocwkq"
      }
    },
    {
      "cell_type": "code",
      "source": [
        "Recommend = list(X.index[correlation_product_ID > 0.90])\n",
        "\n",
        "# Removes the item already bought by the customer\n",
        "Recommend.remove(i)\n",
        "\n",
        "Recommend[0:9]"
      ],
      "metadata": {
        "execution": {
          "iopub.status.busy": "2024-09-17T03:39:15.636924Z",
          "iopub.execute_input": "2024-09-17T03:39:15.637606Z",
          "iopub.status.idle": "2024-09-17T03:39:15.650169Z",
          "shell.execute_reply.started": "2024-09-17T03:39:15.637527Z",
          "shell.execute_reply": "2024-09-17T03:39:15.648742Z"
        },
        "trusted": true,
        "id": "bXnML9-icwkq",
        "colab": {
          "base_uri": "https://localhost:8080/"
        },
        "outputId": "6569e09e-1705-4130-990f-ec8b81d2ee31"
      },
      "execution_count": 52,
      "outputs": [
        {
          "output_type": "execute_result",
          "data": {
            "text/plain": [
              "['0205616461',\n",
              " '0733001998',\n",
              " '0737104473',\n",
              " '1304139212',\n",
              " '1304139220',\n",
              " '130414089X',\n",
              " '130414643X',\n",
              " '130414674X',\n",
              " '1304174778']"
            ]
          },
          "metadata": {},
          "execution_count": 52
        }
      ]
    },
    {
      "cell_type": "code",
      "source": [
        "# Importing libraries\n",
        "from sklearn.feature_extraction.text import TfidfVectorizer, CountVectorizer\n",
        "from sklearn.neighbors import NearestNeighbors\n",
        "from sklearn.cluster import KMeans\n",
        "from sklearn.metrics import adjusted_rand_score"
      ],
      "metadata": {
        "execution": {
          "iopub.status.busy": "2024-09-17T03:39:15.652418Z",
          "iopub.execute_input": "2024-09-17T03:39:15.653277Z",
          "iopub.status.idle": "2024-09-17T03:39:15.843267Z",
          "shell.execute_reply.started": "2024-09-17T03:39:15.653185Z",
          "shell.execute_reply": "2024-09-17T03:39:15.842174Z"
        },
        "trusted": true,
        "id": "vumkTQpDcwkq"
      },
      "execution_count": 53,
      "outputs": []
    },
    {
      "cell_type": "markdown",
      "source": [
        "### Item to item based recommendation system based on product description\n"
      ],
      "metadata": {
        "id": "--WcIPUAcwkv"
      }
    },
    {
      "cell_type": "code",
      "source": [
        "product_descriptions = pd.read_csv('product_descriptions.csv')\n",
        "product_descriptions.shape"
      ],
      "metadata": {
        "execution": {
          "iopub.status.busy": "2024-09-17T03:52:03.915968Z",
          "iopub.execute_input": "2024-09-17T03:52:03.916447Z",
          "iopub.status.idle": "2024-09-17T03:52:06.367275Z",
          "shell.execute_reply.started": "2024-09-17T03:52:03.916371Z",
          "shell.execute_reply": "2024-09-17T03:52:06.366052Z"
        },
        "trusted": true,
        "id": "y5o2Lu8pcwkw",
        "colab": {
          "base_uri": "https://localhost:8080/"
        },
        "outputId": "ef8215f8-a982-4158-a240-877d3fc15a8d"
      },
      "execution_count": 55,
      "outputs": [
        {
          "output_type": "execute_result",
          "data": {
            "text/plain": [
              "(124428, 2)"
            ]
          },
          "metadata": {},
          "execution_count": 55
        }
      ]
    },
    {
      "cell_type": "markdown",
      "source": [
        "#### Checking for missing values"
      ],
      "metadata": {
        "id": "vA8lvDrOcwkw"
      }
    },
    {
      "cell_type": "code",
      "source": [
        "product_descriptions.isnull().sum()"
      ],
      "metadata": {
        "colab": {
          "base_uri": "https://localhost:8080/",
          "height": 147
        },
        "id": "buCBUe2FlsUQ",
        "outputId": "88b813f6-e1b5-45a2-cc8c-b3d640edda79"
      },
      "execution_count": 56,
      "outputs": [
        {
          "output_type": "execute_result",
          "data": {
            "text/plain": [
              "product_uid            0\n",
              "product_description    0\n",
              "dtype: int64"
            ],
            "text/html": [
              "<div>\n",
              "<style scoped>\n",
              "    .dataframe tbody tr th:only-of-type {\n",
              "        vertical-align: middle;\n",
              "    }\n",
              "\n",
              "    .dataframe tbody tr th {\n",
              "        vertical-align: top;\n",
              "    }\n",
              "\n",
              "    .dataframe thead th {\n",
              "        text-align: right;\n",
              "    }\n",
              "</style>\n",
              "<table border=\"1\" class=\"dataframe\">\n",
              "  <thead>\n",
              "    <tr style=\"text-align: right;\">\n",
              "      <th></th>\n",
              "      <th>0</th>\n",
              "    </tr>\n",
              "  </thead>\n",
              "  <tbody>\n",
              "    <tr>\n",
              "      <th>product_uid</th>\n",
              "      <td>0</td>\n",
              "    </tr>\n",
              "    <tr>\n",
              "      <th>product_description</th>\n",
              "      <td>0</td>\n",
              "    </tr>\n",
              "  </tbody>\n",
              "</table>\n",
              "</div><br><label><b>dtype:</b> int64</label>"
            ]
          },
          "metadata": {},
          "execution_count": 56
        }
      ]
    },
    {
      "cell_type": "code",
      "source": [
        "product_descriptions.head()"
      ],
      "metadata": {
        "execution": {
          "iopub.status.busy": "2024-09-17T03:52:13.080157Z",
          "iopub.execute_input": "2024-09-17T03:52:13.080677Z",
          "iopub.status.idle": "2024-09-17T03:52:13.127595Z",
          "shell.execute_reply.started": "2024-09-17T03:52:13.08058Z",
          "shell.execute_reply": "2024-09-17T03:52:13.126757Z"
        },
        "trusted": true,
        "id": "bf6yHa53cwkw",
        "colab": {
          "base_uri": "https://localhost:8080/",
          "height": 206
        },
        "outputId": "b2545275-3dc5-4508-8f27-8bcf8bcd47b9"
      },
      "execution_count": 57,
      "outputs": [
        {
          "output_type": "execute_result",
          "data": {
            "text/plain": [
              "   product_uid                                product_description\n",
              "0       100001  Not only do angles make joints stronger, they ...\n",
              "1       100002  BEHR Premium Textured DECKOVER is an innovativ...\n",
              "2       100003  Classic architecture meets contemporary design...\n",
              "3       100004  The Grape Solar 265-Watt Polycrystalline PV So...\n",
              "4       100005  Update your bathroom with the Delta Vero Singl..."
            ],
            "text/html": [
              "\n",
              "  <div id=\"df-7847dd7e-d5f3-4549-8f24-039298d06762\" class=\"colab-df-container\">\n",
              "    <div>\n",
              "<style scoped>\n",
              "    .dataframe tbody tr th:only-of-type {\n",
              "        vertical-align: middle;\n",
              "    }\n",
              "\n",
              "    .dataframe tbody tr th {\n",
              "        vertical-align: top;\n",
              "    }\n",
              "\n",
              "    .dataframe thead th {\n",
              "        text-align: right;\n",
              "    }\n",
              "</style>\n",
              "<table border=\"1\" class=\"dataframe\">\n",
              "  <thead>\n",
              "    <tr style=\"text-align: right;\">\n",
              "      <th></th>\n",
              "      <th>product_uid</th>\n",
              "      <th>product_description</th>\n",
              "    </tr>\n",
              "  </thead>\n",
              "  <tbody>\n",
              "    <tr>\n",
              "      <th>0</th>\n",
              "      <td>100001</td>\n",
              "      <td>Not only do angles make joints stronger, they ...</td>\n",
              "    </tr>\n",
              "    <tr>\n",
              "      <th>1</th>\n",
              "      <td>100002</td>\n",
              "      <td>BEHR Premium Textured DECKOVER is an innovativ...</td>\n",
              "    </tr>\n",
              "    <tr>\n",
              "      <th>2</th>\n",
              "      <td>100003</td>\n",
              "      <td>Classic architecture meets contemporary design...</td>\n",
              "    </tr>\n",
              "    <tr>\n",
              "      <th>3</th>\n",
              "      <td>100004</td>\n",
              "      <td>The Grape Solar 265-Watt Polycrystalline PV So...</td>\n",
              "    </tr>\n",
              "    <tr>\n",
              "      <th>4</th>\n",
              "      <td>100005</td>\n",
              "      <td>Update your bathroom with the Delta Vero Singl...</td>\n",
              "    </tr>\n",
              "  </tbody>\n",
              "</table>\n",
              "</div>\n",
              "    <div class=\"colab-df-buttons\">\n",
              "\n",
              "  <div class=\"colab-df-container\">\n",
              "    <button class=\"colab-df-convert\" onclick=\"convertToInteractive('df-7847dd7e-d5f3-4549-8f24-039298d06762')\"\n",
              "            title=\"Convert this dataframe to an interactive table.\"\n",
              "            style=\"display:none;\">\n",
              "\n",
              "  <svg xmlns=\"http://www.w3.org/2000/svg\" height=\"24px\" viewBox=\"0 -960 960 960\">\n",
              "    <path d=\"M120-120v-720h720v720H120Zm60-500h600v-160H180v160Zm220 220h160v-160H400v160Zm0 220h160v-160H400v160ZM180-400h160v-160H180v160Zm440 0h160v-160H620v160ZM180-180h160v-160H180v160Zm440 0h160v-160H620v160Z\"/>\n",
              "  </svg>\n",
              "    </button>\n",
              "\n",
              "  <style>\n",
              "    .colab-df-container {\n",
              "      display:flex;\n",
              "      gap: 12px;\n",
              "    }\n",
              "\n",
              "    .colab-df-convert {\n",
              "      background-color: #E8F0FE;\n",
              "      border: none;\n",
              "      border-radius: 50%;\n",
              "      cursor: pointer;\n",
              "      display: none;\n",
              "      fill: #1967D2;\n",
              "      height: 32px;\n",
              "      padding: 0 0 0 0;\n",
              "      width: 32px;\n",
              "    }\n",
              "\n",
              "    .colab-df-convert:hover {\n",
              "      background-color: #E2EBFA;\n",
              "      box-shadow: 0px 1px 2px rgba(60, 64, 67, 0.3), 0px 1px 3px 1px rgba(60, 64, 67, 0.15);\n",
              "      fill: #174EA6;\n",
              "    }\n",
              "\n",
              "    .colab-df-buttons div {\n",
              "      margin-bottom: 4px;\n",
              "    }\n",
              "\n",
              "    [theme=dark] .colab-df-convert {\n",
              "      background-color: #3B4455;\n",
              "      fill: #D2E3FC;\n",
              "    }\n",
              "\n",
              "    [theme=dark] .colab-df-convert:hover {\n",
              "      background-color: #434B5C;\n",
              "      box-shadow: 0px 1px 3px 1px rgba(0, 0, 0, 0.15);\n",
              "      filter: drop-shadow(0px 1px 2px rgba(0, 0, 0, 0.3));\n",
              "      fill: #FFFFFF;\n",
              "    }\n",
              "  </style>\n",
              "\n",
              "    <script>\n",
              "      const buttonEl =\n",
              "        document.querySelector('#df-7847dd7e-d5f3-4549-8f24-039298d06762 button.colab-df-convert');\n",
              "      buttonEl.style.display =\n",
              "        google.colab.kernel.accessAllowed ? 'block' : 'none';\n",
              "\n",
              "      async function convertToInteractive(key) {\n",
              "        const element = document.querySelector('#df-7847dd7e-d5f3-4549-8f24-039298d06762');\n",
              "        const dataTable =\n",
              "          await google.colab.kernel.invokeFunction('convertToInteractive',\n",
              "                                                    [key], {});\n",
              "        if (!dataTable) return;\n",
              "\n",
              "        const docLinkHtml = 'Like what you see? Visit the ' +\n",
              "          '<a target=\"_blank\" href=https://colab.research.google.com/notebooks/data_table.ipynb>data table notebook</a>'\n",
              "          + ' to learn more about interactive tables.';\n",
              "        element.innerHTML = '';\n",
              "        dataTable['output_type'] = 'display_data';\n",
              "        await google.colab.output.renderOutput(dataTable, element);\n",
              "        const docLink = document.createElement('div');\n",
              "        docLink.innerHTML = docLinkHtml;\n",
              "        element.appendChild(docLink);\n",
              "      }\n",
              "    </script>\n",
              "  </div>\n",
              "\n",
              "\n",
              "<div id=\"df-ef26288c-693f-4d2b-90ed-71480c2089f4\">\n",
              "  <button class=\"colab-df-quickchart\" onclick=\"quickchart('df-ef26288c-693f-4d2b-90ed-71480c2089f4')\"\n",
              "            title=\"Suggest charts\"\n",
              "            style=\"display:none;\">\n",
              "\n",
              "<svg xmlns=\"http://www.w3.org/2000/svg\" height=\"24px\"viewBox=\"0 0 24 24\"\n",
              "     width=\"24px\">\n",
              "    <g>\n",
              "        <path d=\"M19 3H5c-1.1 0-2 .9-2 2v14c0 1.1.9 2 2 2h14c1.1 0 2-.9 2-2V5c0-1.1-.9-2-2-2zM9 17H7v-7h2v7zm4 0h-2V7h2v10zm4 0h-2v-4h2v4z\"/>\n",
              "    </g>\n",
              "</svg>\n",
              "  </button>\n",
              "\n",
              "<style>\n",
              "  .colab-df-quickchart {\n",
              "      --bg-color: #E8F0FE;\n",
              "      --fill-color: #1967D2;\n",
              "      --hover-bg-color: #E2EBFA;\n",
              "      --hover-fill-color: #174EA6;\n",
              "      --disabled-fill-color: #AAA;\n",
              "      --disabled-bg-color: #DDD;\n",
              "  }\n",
              "\n",
              "  [theme=dark] .colab-df-quickchart {\n",
              "      --bg-color: #3B4455;\n",
              "      --fill-color: #D2E3FC;\n",
              "      --hover-bg-color: #434B5C;\n",
              "      --hover-fill-color: #FFFFFF;\n",
              "      --disabled-bg-color: #3B4455;\n",
              "      --disabled-fill-color: #666;\n",
              "  }\n",
              "\n",
              "  .colab-df-quickchart {\n",
              "    background-color: var(--bg-color);\n",
              "    border: none;\n",
              "    border-radius: 50%;\n",
              "    cursor: pointer;\n",
              "    display: none;\n",
              "    fill: var(--fill-color);\n",
              "    height: 32px;\n",
              "    padding: 0;\n",
              "    width: 32px;\n",
              "  }\n",
              "\n",
              "  .colab-df-quickchart:hover {\n",
              "    background-color: var(--hover-bg-color);\n",
              "    box-shadow: 0 1px 2px rgba(60, 64, 67, 0.3), 0 1px 3px 1px rgba(60, 64, 67, 0.15);\n",
              "    fill: var(--button-hover-fill-color);\n",
              "  }\n",
              "\n",
              "  .colab-df-quickchart-complete:disabled,\n",
              "  .colab-df-quickchart-complete:disabled:hover {\n",
              "    background-color: var(--disabled-bg-color);\n",
              "    fill: var(--disabled-fill-color);\n",
              "    box-shadow: none;\n",
              "  }\n",
              "\n",
              "  .colab-df-spinner {\n",
              "    border: 2px solid var(--fill-color);\n",
              "    border-color: transparent;\n",
              "    border-bottom-color: var(--fill-color);\n",
              "    animation:\n",
              "      spin 1s steps(1) infinite;\n",
              "  }\n",
              "\n",
              "  @keyframes spin {\n",
              "    0% {\n",
              "      border-color: transparent;\n",
              "      border-bottom-color: var(--fill-color);\n",
              "      border-left-color: var(--fill-color);\n",
              "    }\n",
              "    20% {\n",
              "      border-color: transparent;\n",
              "      border-left-color: var(--fill-color);\n",
              "      border-top-color: var(--fill-color);\n",
              "    }\n",
              "    30% {\n",
              "      border-color: transparent;\n",
              "      border-left-color: var(--fill-color);\n",
              "      border-top-color: var(--fill-color);\n",
              "      border-right-color: var(--fill-color);\n",
              "    }\n",
              "    40% {\n",
              "      border-color: transparent;\n",
              "      border-right-color: var(--fill-color);\n",
              "      border-top-color: var(--fill-color);\n",
              "    }\n",
              "    60% {\n",
              "      border-color: transparent;\n",
              "      border-right-color: var(--fill-color);\n",
              "    }\n",
              "    80% {\n",
              "      border-color: transparent;\n",
              "      border-right-color: var(--fill-color);\n",
              "      border-bottom-color: var(--fill-color);\n",
              "    }\n",
              "    90% {\n",
              "      border-color: transparent;\n",
              "      border-bottom-color: var(--fill-color);\n",
              "    }\n",
              "  }\n",
              "</style>\n",
              "\n",
              "  <script>\n",
              "    async function quickchart(key) {\n",
              "      const quickchartButtonEl =\n",
              "        document.querySelector('#' + key + ' button');\n",
              "      quickchartButtonEl.disabled = true;  // To prevent multiple clicks.\n",
              "      quickchartButtonEl.classList.add('colab-df-spinner');\n",
              "      try {\n",
              "        const charts = await google.colab.kernel.invokeFunction(\n",
              "            'suggestCharts', [key], {});\n",
              "      } catch (error) {\n",
              "        console.error('Error during call to suggestCharts:', error);\n",
              "      }\n",
              "      quickchartButtonEl.classList.remove('colab-df-spinner');\n",
              "      quickchartButtonEl.classList.add('colab-df-quickchart-complete');\n",
              "    }\n",
              "    (() => {\n",
              "      let quickchartButtonEl =\n",
              "        document.querySelector('#df-ef26288c-693f-4d2b-90ed-71480c2089f4 button');\n",
              "      quickchartButtonEl.style.display =\n",
              "        google.colab.kernel.accessAllowed ? 'block' : 'none';\n",
              "    })();\n",
              "  </script>\n",
              "</div>\n",
              "\n",
              "    </div>\n",
              "  </div>\n"
            ],
            "application/vnd.google.colaboratory.intrinsic+json": {
              "type": "dataframe",
              "variable_name": "product_descriptions"
            }
          },
          "metadata": {},
          "execution_count": 57
        }
      ]
    },
    {
      "cell_type": "code",
      "source": [
        "product_descriptions1 = product_descriptions.head(500)\n",
        "\n",
        "product_descriptions1[\"product_description\"].head(10)"
      ],
      "metadata": {
        "execution": {
          "iopub.status.busy": "2024-09-17T03:52:13.130063Z",
          "iopub.execute_input": "2024-09-17T03:52:13.13038Z",
          "iopub.status.idle": "2024-09-17T03:52:13.139947Z",
          "shell.execute_reply.started": "2024-09-17T03:52:13.130302Z",
          "shell.execute_reply": "2024-09-17T03:52:13.138811Z"
        },
        "trusted": true,
        "id": "B1eyg2rEcwkx",
        "colab": {
          "base_uri": "https://localhost:8080/",
          "height": 398
        },
        "outputId": "2f7d85db-cd4b-45ce-a869-1ad774714f41"
      },
      "execution_count": 58,
      "outputs": [
        {
          "output_type": "execute_result",
          "data": {
            "text/plain": [
              "0    Not only do angles make joints stronger, they ...\n",
              "1    BEHR Premium Textured DECKOVER is an innovativ...\n",
              "2    Classic architecture meets contemporary design...\n",
              "3    The Grape Solar 265-Watt Polycrystalline PV So...\n",
              "4    Update your bathroom with the Delta Vero Singl...\n",
              "5    Achieving delicious results is almost effortle...\n",
              "6    The Quantum Adjustable 2-Light LED Black Emerg...\n",
              "7    The Teks #10 x 1-1/2 in. Zinc-Plated Steel Was...\n",
              "8    Get the House of Fara 3/4 in. x 3 in. x 8 ft. ...\n",
              "9    Valley View Industries Metal Stakes (4-Pack) a...\n",
              "Name: product_description, dtype: object"
            ],
            "text/html": [
              "<div>\n",
              "<style scoped>\n",
              "    .dataframe tbody tr th:only-of-type {\n",
              "        vertical-align: middle;\n",
              "    }\n",
              "\n",
              "    .dataframe tbody tr th {\n",
              "        vertical-align: top;\n",
              "    }\n",
              "\n",
              "    .dataframe thead th {\n",
              "        text-align: right;\n",
              "    }\n",
              "</style>\n",
              "<table border=\"1\" class=\"dataframe\">\n",
              "  <thead>\n",
              "    <tr style=\"text-align: right;\">\n",
              "      <th></th>\n",
              "      <th>product_description</th>\n",
              "    </tr>\n",
              "  </thead>\n",
              "  <tbody>\n",
              "    <tr>\n",
              "      <th>0</th>\n",
              "      <td>Not only do angles make joints stronger, they ...</td>\n",
              "    </tr>\n",
              "    <tr>\n",
              "      <th>1</th>\n",
              "      <td>BEHR Premium Textured DECKOVER is an innovativ...</td>\n",
              "    </tr>\n",
              "    <tr>\n",
              "      <th>2</th>\n",
              "      <td>Classic architecture meets contemporary design...</td>\n",
              "    </tr>\n",
              "    <tr>\n",
              "      <th>3</th>\n",
              "      <td>The Grape Solar 265-Watt Polycrystalline PV So...</td>\n",
              "    </tr>\n",
              "    <tr>\n",
              "      <th>4</th>\n",
              "      <td>Update your bathroom with the Delta Vero Singl...</td>\n",
              "    </tr>\n",
              "    <tr>\n",
              "      <th>5</th>\n",
              "      <td>Achieving delicious results is almost effortle...</td>\n",
              "    </tr>\n",
              "    <tr>\n",
              "      <th>6</th>\n",
              "      <td>The Quantum Adjustable 2-Light LED Black Emerg...</td>\n",
              "    </tr>\n",
              "    <tr>\n",
              "      <th>7</th>\n",
              "      <td>The Teks #10 x 1-1/2 in. Zinc-Plated Steel Was...</td>\n",
              "    </tr>\n",
              "    <tr>\n",
              "      <th>8</th>\n",
              "      <td>Get the House of Fara 3/4 in. x 3 in. x 8 ft. ...</td>\n",
              "    </tr>\n",
              "    <tr>\n",
              "      <th>9</th>\n",
              "      <td>Valley View Industries Metal Stakes (4-Pack) a...</td>\n",
              "    </tr>\n",
              "  </tbody>\n",
              "</table>\n",
              "</div><br><label><b>dtype:</b> object</label>"
            ]
          },
          "metadata": {},
          "execution_count": 58
        }
      ]
    },
    {
      "cell_type": "code",
      "source": [
        "vectorizer = TfidfVectorizer(stop_words='english')\n",
        "X1 = vectorizer.fit_transform(product_descriptions1[\"product_description\"])\n",
        "X1"
      ],
      "metadata": {
        "execution": {
          "iopub.status.busy": "2024-09-17T03:52:13.142171Z",
          "iopub.execute_input": "2024-09-17T03:52:13.142592Z",
          "iopub.status.idle": "2024-09-17T03:52:13.285349Z",
          "shell.execute_reply.started": "2024-09-17T03:52:13.14252Z",
          "shell.execute_reply": "2024-09-17T03:52:13.284265Z"
        },
        "trusted": true,
        "id": "lETODHzRcwky",
        "colab": {
          "base_uri": "https://localhost:8080/"
        },
        "outputId": "240999a6-95d0-487d-ed52-2b0ad72f9582"
      },
      "execution_count": 59,
      "outputs": [
        {
          "output_type": "execute_result",
          "data": {
            "text/plain": [
              "<500x8932 sparse matrix of type '<class 'numpy.float64'>'\n",
              "\twith 34817 stored elements in Compressed Sparse Row format>"
            ]
          },
          "metadata": {},
          "execution_count": 59
        }
      ]
    },
    {
      "cell_type": "markdown",
      "source": [
        "#### Visualizing product clusters in subset of data"
      ],
      "metadata": {
        "id": "6qtIH2bOcwky"
      }
    },
    {
      "cell_type": "code",
      "source": [
        "# Fitting K-Means to the dataset\n",
        "X=X1\n",
        "kmeans = KMeans(n_clusters = 10, init = 'k-means++')\n",
        "y_kmeans = kmeans.fit_predict(X)\n",
        "plt.plot(y_kmeans, \".\")\n",
        "plt.show()"
      ],
      "metadata": {
        "execution": {
          "iopub.status.busy": "2024-09-17T03:52:13.286923Z",
          "iopub.execute_input": "2024-09-17T03:52:13.287234Z",
          "iopub.status.idle": "2024-09-17T03:52:21.633024Z",
          "shell.execute_reply.started": "2024-09-17T03:52:13.287171Z",
          "shell.execute_reply": "2024-09-17T03:52:21.631534Z"
        },
        "trusted": true,
        "id": "f84LX3Uwcwkz",
        "colab": {
          "base_uri": "https://localhost:8080/",
          "height": 430
        },
        "outputId": "2a1fed26-655e-4a4d-860c-fd7e933c9edb"
      },
      "execution_count": 60,
      "outputs": [
        {
          "output_type": "display_data",
          "data": {
            "text/plain": [
              "<Figure size 640x480 with 1 Axes>"
            ],
            "image/png": "[encoded data removed]"
          },
          "metadata": {}
        }
      ]
    },
    {
      "cell_type": "code",
      "source": [
        "def print_cluster(i):\n",
        "    print(\"Cluster %d:\" % i),\n",
        "    for ind in order_centroids[i, :10]:\n",
        "        print(' %s' % terms[ind])"
      ],
      "metadata": {
        "execution": {
          "iopub.status.busy": "2024-09-17T03:52:21.639828Z",
          "iopub.execute_input": "2024-09-17T03:52:21.640352Z",
          "iopub.status.idle": "2024-09-17T03:52:21.650441Z",
          "shell.execute_reply.started": "2024-09-17T03:52:21.640267Z",
          "shell.execute_reply": "2024-09-17T03:52:21.648383Z"
        },
        "trusted": true,
        "id": "d8EuUdt0cwk0"
      },
      "execution_count": 61,
      "outputs": []
    },
    {
      "cell_type": "markdown",
      "source": [
        "## Output\n",
        "* Recommendation of product based on the current product selected by user.\n"
      ],
      "metadata": {
        "id": "mBZeuKnBcwk0"
      }
    },
    {
      "cell_type": "markdown",
      "source": [
        "#### Top words in each cluster based on product description"
      ],
      "metadata": {
        "id": "m66hWZsfcwk1"
      }
    },
    {
      "cell_type": "code",
      "source": [
        "true_k = 10\n",
        "\n",
        "model = KMeans(n_clusters=true_k, init='k-means++', max_iter=100, n_init=1)\n",
        "model.fit(X1)\n",
        "\n",
        "print(\"Top terms per cluster:\")\n",
        "order_centroids = model.cluster_centers_.argsort()[:, ::-1]\n",
        "# Use get_feature_names_out instead of get_feature_names\n",
        "terms = vectorizer.get_feature_names_out()\n",
        "for i in range(true_k):\n",
        "    print_cluster(i)"
      ],
      "metadata": {
        "execution": {
          "iopub.status.busy": "2024-09-17T03:52:21.653112Z",
          "iopub.execute_input": "2024-09-17T03:52:21.653618Z",
          "iopub.status.idle": "2024-09-17T03:52:22.659005Z",
          "shell.execute_reply.started": "2024-09-17T03:52:21.653519Z",
          "shell.execute_reply": "2024-09-17T03:52:22.657755Z"
        },
        "trusted": true,
        "id": "f1OovFvJcwk2",
        "colab": {
          "base_uri": "https://localhost:8080/"
        },
        "outputId": "f89c40c6-e79b-42a3-8f7b-b4463aabe199"
      },
      "execution_count": 62,
      "outputs": [
        {
          "output_type": "stream",
          "name": "stdout",
          "text": [
            "Top terms per cluster:\n",
            "Cluster 0:\n",
            " tape\n",
            " film\n",
            " painting\n",
            " drop\n",
            " carpet\n",
            " cloths\n",
            " shrink\n",
            " scotch\n",
            " recommended\n",
            " masking\n",
            "Cluster 1:\n",
            " wood\n",
            " finish\n",
            " use\n",
            " commercial\n",
            " indoor\n",
            " look\n",
            " tile\n",
            " durable\n",
            " outdoor\n",
            " paint\n",
            "Cluster 2:\n",
            " design\n",
            " light\n",
            " fixture\n",
            " pliers\n",
            " glass\n",
            " collection\n",
            " mix\n",
            " fixtures\n",
            " energy\n",
            " markor\n",
            "Cluster 3:\n",
            " cooking\n",
            " oven\n",
            " cycle\n",
            " cu\n",
            " wash\n",
            " steam\n",
            " dryer\n",
            " burner\n",
            " options\n",
            " large\n",
            "Cluster 4:\n",
            " ft\n",
            " moulding\n",
            " painted\n",
            " post\n",
            " fence\n",
            " easy\n",
            " rail\n",
            " cut\n",
            " add\n",
            " base\n",
            "Cluster 5:\n",
            " frame\n",
            " patio\n",
            " dining\n",
            " cushions\n",
            " wicker\n",
            " piece\n",
            " screen\n",
            " coated\n",
            " roller\n",
            " outdoor\n",
            "Cluster 6:\n",
            " landscape\n",
            " steel\n",
            " post\n",
            " outdoor\n",
            " wood\n",
            " treated\n",
            " product\n",
            " lumber\n",
            " quality\n",
            " used\n",
            "Cluster 7:\n",
            " water\n",
            " wall\n",
            " easy\n",
            " metal\n",
            " gal\n",
            " year\n",
            " use\n",
            " design\n",
            " tank\n",
            " watering\n",
            "Cluster 8:\n",
            " light\n",
            " watt\n",
            " installation\n",
            " help\n",
            " mount\n",
            " nickel\n",
            " fan\n",
            " use\n",
            " easy\n",
            " features\n",
            "Cluster 9:\n",
            " air\n",
            " power\n",
            " cooling\n",
            " ft\n",
            " easy\n",
            " snow\n",
            " insulation\n",
            " unit\n",
            " control\n",
            " protection\n"
          ]
        }
      ]
    },
    {
      "cell_type": "markdown",
      "source": [
        "#### Predicting clusters based on key search words"
      ],
      "metadata": {
        "id": "hKJfTLqdcwk3"
      }
    },
    {
      "cell_type": "code",
      "source": [
        "def show_recommendations(product):\n",
        "    print(\"Cluster ID:\")\n",
        "    Y = vectorizer.transform([product])\n",
        "    prediction = model.predict(Y)\n",
        "    print(prediction)\n",
        "    print_cluster(prediction[0])"
      ],
      "metadata": {
        "execution": {
          "iopub.status.busy": "2024-09-17T03:52:22.663255Z",
          "iopub.execute_input": "2024-09-17T03:52:22.663762Z",
          "iopub.status.idle": "2024-09-17T03:52:22.693824Z",
          "shell.execute_reply.started": "2024-09-17T03:52:22.663687Z",
          "shell.execute_reply": "2024-09-17T03:52:22.692368Z"
        },
        "trusted": true,
        "id": "sbTCwkfBcwk3"
      },
      "execution_count": 63,
      "outputs": []
    },
    {
      "cell_type": "code",
      "source": [
        "show_recommendations(\"cutting tool\")"
      ],
      "metadata": {
        "execution": {
          "iopub.status.busy": "2024-09-17T03:52:22.695864Z",
          "iopub.execute_input": "2024-09-17T03:52:22.696342Z",
          "iopub.status.idle": "2024-09-17T03:52:22.720939Z",
          "shell.execute_reply.started": "2024-09-17T03:52:22.696269Z",
          "shell.execute_reply": "2024-09-17T03:52:22.719832Z"
        },
        "trusted": true,
        "id": "JVuPkJsCcwk4",
        "colab": {
          "base_uri": "https://localhost:8080/"
        },
        "outputId": "09dc6c2b-34eb-4908-aaa9-9a99792878f5"
      },
      "execution_count": 30,
      "outputs": [
        {
          "output_type": "stream",
          "name": "stdout",
          "text": [
            "Cluster ID:\n",
            "[6]\n",
            "Cluster 6:\n",
            " metal\n",
            " gauge\n",
            " steel\n",
            " drill\n",
            " screw\n",
            " screws\n",
            " tool\n",
            " 20\n",
            " lithium\n",
            " power\n"
          ]
        }
      ]
    },
    {
      "cell_type": "code",
      "source": [
        "show_recommendations(\"spray paint\")"
      ],
      "metadata": {
        "execution": {
          "iopub.status.busy": "2024-09-17T03:52:22.722498Z",
          "iopub.execute_input": "2024-09-17T03:52:22.722838Z",
          "iopub.status.idle": "2024-09-17T03:52:22.729273Z",
          "shell.execute_reply.started": "2024-09-17T03:52:22.722777Z",
          "shell.execute_reply": "2024-09-17T03:52:22.728292Z"
        },
        "trusted": true,
        "id": "dgkiDcfjcwk5",
        "colab": {
          "base_uri": "https://localhost:8080/"
        },
        "outputId": "c8769bae-e607-4d57-caa8-d3bfdcedb7d8"
      },
      "execution_count": 31,
      "outputs": [
        {
          "output_type": "stream",
          "name": "stdout",
          "text": [
            "Cluster ID:\n",
            "[8]\n",
            "Cluster 8:\n",
            " watering\n",
            " easy\n",
            " shower\n",
            " plants\n",
            " use\n",
            " head\n",
            " gal\n",
            " handle\n",
            " spray\n",
            " design\n"
          ]
        }
      ]
    },
    {
      "cell_type": "code",
      "source": [
        "show_recommendations(\"design\")"
      ],
      "metadata": {
        "execution": {
          "iopub.status.busy": "2024-09-17T03:52:22.732012Z",
          "iopub.execute_input": "2024-09-17T03:52:22.732382Z",
          "iopub.status.idle": "2024-09-17T03:52:22.741888Z",
          "shell.execute_reply.started": "2024-09-17T03:52:22.732306Z",
          "shell.execute_reply": "2024-09-17T03:52:22.740323Z"
        },
        "trusted": true,
        "id": "Pet0saVMcwk5",
        "colab": {
          "base_uri": "https://localhost:8080/"
        },
        "outputId": "5a44885b-978f-4eb1-ae51-48c641bfd27e"
      },
      "execution_count": 70,
      "outputs": [
        {
          "output_type": "stream",
          "name": "stdout",
          "text": [
            "Cluster ID:\n",
            "[2]\n",
            "Cluster 2:\n",
            " design\n",
            " light\n",
            " fixture\n",
            " pliers\n",
            " glass\n",
            " collection\n",
            " mix\n",
            " fixtures\n",
            " energy\n",
            " markor\n"
          ]
        }
      ]
    },
    {
      "cell_type": "markdown",
      "source": [
        "In case a word appears in multiple clusters, the algorithm chooses the cluster with the highest frequency of occurance of the word."
      ],
      "metadata": {
        "id": "OE2cxnuVcwk5"
      }
    },
    {
      "cell_type": "code",
      "source": [
        "show_recommendations(\"wash\")"
      ],
      "metadata": {
        "scrolled": true,
        "execution": {
          "iopub.status.busy": "2024-09-17T03:52:22.743907Z",
          "iopub.execute_input": "2024-09-17T03:52:22.744222Z",
          "iopub.status.idle": "2024-09-17T03:52:22.755659Z",
          "shell.execute_reply.started": "2024-09-17T03:52:22.744156Z",
          "shell.execute_reply": "2024-09-17T03:52:22.754558Z"
        },
        "trusted": true,
        "id": "bstVNallcwk6",
        "colab": {
          "base_uri": "https://localhost:8080/"
        },
        "outputId": "d44a67bd-d06e-4fa2-8604-3a4c83e6d972"
      },
      "execution_count": 65,
      "outputs": [
        {
          "output_type": "stream",
          "name": "stdout",
          "text": [
            "Cluster ID:\n",
            "[3]\n",
            "Cluster 3:\n",
            " cooking\n",
            " oven\n",
            " cycle\n",
            " cu\n",
            " wash\n",
            " steam\n",
            " dryer\n",
            " burner\n",
            " options\n",
            " large\n"
          ]
        }
      ]
    },
    {
      "cell_type": "markdown",
      "source": [
        "Once a cluster is identified based on the user's search words, the recommendation system can display items from the corresponding product clusters based on the product descriptions."
      ],
      "metadata": {
        "id": "wbUGLkptcwk6"
      }
    }
  ]
}